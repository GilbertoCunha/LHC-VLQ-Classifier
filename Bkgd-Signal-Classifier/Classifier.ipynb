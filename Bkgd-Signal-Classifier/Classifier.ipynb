{
 "cells": [
  {
   "cell_type": "code",
   "execution_count": 30,
   "metadata": {},
   "outputs": [],
   "source": [
    "import time\n",
    "import numpy as np\n",
    "import pandas as pd\n",
    "from tqdm import tqdm\n",
    "from glob import glob\n",
    "from tensorflow import keras\n",
    "import matplotlib.pyplot as plt\n",
    "from sklearn.model_selection import train_test_split"
   ]
  },
  {
   "cell_type": "markdown",
   "metadata": {},
   "source": [
    "# Import data and create datasets"
   ]
  },
  {
   "cell_type": "markdown",
   "metadata": {},
   "source": [
    "As labels dos dados estão definidas tais que:\n",
    "- Background: 0\n",
    "- Sinal: 1"
   ]
  },
  {
   "cell_type": "code",
   "execution_count": 31,
   "metadata": {},
   "outputs": [],
   "source": [
    "# Gather data\n",
    "bkgd = pd.read_hdf(\"data/processed/Background.h5\", key='bkgd')\n",
    "fcnc = pd.read_hdf(\"data/processed/FCNC.h5\", key=\"fcnc\")\n",
    "X_train = pd.concat([bkgd, fcnc])\n",
    "del bkgd, fcnc"
   ]
  },
  {
   "cell_type": "code",
   "execution_count": 32,
   "metadata": {},
   "outputs": [],
   "source": [
    "# Split data into training and testing\n",
    "X_train, X_test, y_train, y_test = train_test_split(X_train.drop(columns=\"Label\"), X_train[\"Label\"], \n",
    "                                                    test_size=1/3, random_state=42)\n",
    "X_train, X_val, y_train, y_val = train_test_split(X_train, y_train, test_size=0.5, random_state=40)"
   ]
  },
  {
   "cell_type": "code",
   "execution_count": 33,
   "metadata": {},
   "outputs": [
    {
     "name": "stdout",
     "output_type": "stream",
     "text": [
      "Train_size: 1480266 | Val size: 1480267 | Test_size: 1480267\n"
     ]
    }
   ],
   "source": [
    "print(f\"Train_size: {len(y_train)} | Val size: {len(y_val)} | Test_size: {len(y_test)}\")"
   ]
  },
  {
   "cell_type": "code",
   "execution_count": 34,
   "metadata": {},
   "outputs": [],
   "source": [
    "# Get sample weights\n",
    "train_weights = X_train[\"gen_weights\"]\n",
    "val_weights = X_val[\"gen_weights\"]\n",
    "test_weights = X_test[\"gen_weights\"]\n",
    "\n",
    "# Get samples\n",
    "train_samples = X_train[\"Sample\"]\n",
    "val_samples = X_val[\"Sample\"]\n",
    "test_samples = X_test[\"Sample\"]\n",
    "\n",
    "# Get features\n",
    "X_train = X_train.drop([\"gen_weights\", \"Sample\"], axis=1)\n",
    "X_val = X_val.drop([\"gen_weights\", \"Sample\"], axis=1)\n",
    "X_test = X_test.drop([\"gen_weights\", \"Sample\"], axis=1)\n",
    "\n",
    "# Get class weights\n",
    "# Class 0 (background) is the reference class, with weight 1\n",
    "class_weights = {\n",
    "    0: 1,\n",
    "    1: len(y_train[y_train == 0]) / len(y_train[y_train == 1])\n",
    "}"
   ]
  },
  {
   "cell_type": "code",
   "execution_count": 35,
   "metadata": {},
   "outputs": [
    {
     "name": "stdout",
     "output_type": "stream",
     "text": [
      "X_train: (1480266, 69) | y_train: (1480266,) | train_weights: (1480266,)\n",
      "X_val: (1480267, 69) | y_val: (1480267,) | val_weights: (1480267,)\n",
      "X_test: (1480267, 69) | y_test: (1480267,) | test_weights: (1480267,)\n"
     ]
    }
   ],
   "source": [
    "print(f\"X_train: {X_train.values.shape} | y_train: {y_train.values.shape} | train_weights: {train_weights.values.shape}\")\n",
    "print(f\"X_val: {X_val.values.shape} | y_val: {y_val.values.shape} | val_weights: {val_weights.values.shape}\")\n",
    "print(f\"X_test: {X_test.values.shape} | y_test: {y_test.values.shape} | test_weights: {test_weights.values.shape}\")"
   ]
  },
  {
   "cell_type": "code",
   "execution_count": 36,
   "metadata": {},
   "outputs": [],
   "source": [
    "# Save Validation Data\n",
    "X_val.to_hdf(\"data/classifier/val_data.h5\", key=\"X\")\n",
    "y_val.to_hdf(\"data/classifier/val_data.h5\", key=\"y\")\n",
    "val_weights.to_hdf(\"data/classifier/val_data.h5\", key=\"weights\")\n",
    "\n",
    "# Save Test Data\n",
    "X_test.to_hdf(\"data/classifier/test_data.h5\", key=\"X\")\n",
    "y_test.to_hdf(\"data/classifier/test_data.h5\", key=\"y\")\n",
    "test_weights.to_hdf(\"data/classifier/test_data.h5\", key=\"weights\")"
   ]
  },
  {
   "cell_type": "markdown",
   "metadata": {},
   "source": [
    "# Build the model"
   ]
  },
  {
   "cell_type": "code",
   "execution_count": 9,
   "metadata": {},
   "outputs": [],
   "source": [
    "class Standardization(keras.layers.Layer):\n",
    "    def adapt(self, data_samples):\n",
    "        self.means = np.mean(data_samples, axis=0, keepdims=True)\n",
    "        self.stds = np.std(data_samples, axis=0, keepdims=True)\n",
    "        \n",
    "    def call(self, inputs):\n",
    "        return (inputs - self.means) / (self.stds + keras.backend.epsilon())\n",
    "    \n",
    "std_layer = Standardization()\n",
    "std_layer.adapt(X_train.values)"
   ]
  },
  {
   "cell_type": "markdown",
   "metadata": {},
   "source": [
    "Tentar um modelo com menos complexidade e utilizar MC Dropout para tentar obter melhores resultados"
   ]
  },
  {
   "cell_type": "code",
   "execution_count": 10,
   "metadata": {},
   "outputs": [],
   "source": [
    "inputs = keras.Input(shape=(69,))\n",
    "standardize = std_layer(inputs)\n",
    "fc1 = keras.layers.Dense(55, activation='relu')(inputs)\n",
    "d1 = keras.layers.Dropout(0.1)(fc1, training=True)\n",
    "fc2 = keras.layers.Dense(40, activation='relu')(d1)\n",
    "d2 = keras.layers.Dropout(0.1)(fc2, training=True)\n",
    "fc3 = keras.layers.Dense(25, activation='relu')(d2)\n",
    "#d3 = keras.layers.Dropout(0.1)(fc3, training=True)\n",
    "#fc4 = keras.layers.Dense(40, activation='relu')(d3)\n",
    "outputs = keras.layers.Dense(1, activation='sigmoid')(fc3)\n",
    "model = keras.Model(inputs, outputs)\n",
    "model.compile(optimizer='adam', loss=\"binary_crossentropy\",\n",
    "              metrics=[\"accuracy\", keras.metrics.AUC()])"
   ]
  },
  {
   "cell_type": "code",
   "execution_count": 11,
   "metadata": {},
   "outputs": [
    {
     "name": "stdout",
     "output_type": "stream",
     "text": [
      "Model: \"model\"\n",
      "_________________________________________________________________\n",
      "Layer (type)                 Output Shape              Param #   \n",
      "=================================================================\n",
      "input_1 (InputLayer)         [(None, 69)]              0         \n",
      "_________________________________________________________________\n",
      "dense (Dense)                (None, 55)                3850      \n",
      "_________________________________________________________________\n",
      "dropout (Dropout)            (None, 55)                0         \n",
      "_________________________________________________________________\n",
      "dense_1 (Dense)              (None, 40)                2240      \n",
      "_________________________________________________________________\n",
      "dropout_1 (Dropout)          (None, 40)                0         \n",
      "_________________________________________________________________\n",
      "dense_2 (Dense)              (None, 25)                1025      \n",
      "_________________________________________________________________\n",
      "dense_3 (Dense)              (None, 1)                 26        \n",
      "=================================================================\n",
      "Total params: 7,141\n",
      "Trainable params: 7,141\n",
      "Non-trainable params: 0\n",
      "_________________________________________________________________\n"
     ]
    }
   ],
   "source": [
    "model.summary()"
   ]
  },
  {
   "cell_type": "code",
   "execution_count": 8,
   "metadata": {},
   "outputs": [],
   "source": [
    "# Model name\n",
    "name = \"HiddenDense:55,40,25|BatchS:512|Dropout:0.1\""
   ]
  },
  {
   "cell_type": "markdown",
   "metadata": {},
   "source": [
    "# Callbacks "
   ]
  },
  {
   "cell_type": "code",
   "execution_count": 13,
   "metadata": {},
   "outputs": [],
   "source": [
    "# Tensorboard\n",
    "TB = keras.callbacks.TensorBoard(\"logs/\" + name, write_images=True)\n",
    "\n",
    "# Early Stopping\n",
    "ES = keras.callbacks.EarlyStopping(monitor=\"val_loss\", patience=12, verbose=2, mode=\"min\")\n",
    "\n",
    "# Model Checkpoint\n",
    "MC = keras.callbacks.ModelCheckpoint(\"models/\" + name + \".h5\", save_best_only=True, monitor=\"val_loss\",\n",
    "                                     mode=\"min\")"
   ]
  },
  {
   "cell_type": "markdown",
   "metadata": {},
   "source": [
    "# Treinar modelo"
   ]
  },
  {
   "cell_type": "markdown",
   "metadata": {},
   "source": [
    "O modelo tem uma AUC consideravelmente baixa"
   ]
  },
  {
   "cell_type": "code",
   "execution_count": 14,
   "metadata": {},
   "outputs": [
    {
     "name": "stdout",
     "output_type": "stream",
     "text": [
      "Epoch 1/80\n",
      "2892/2892 [==============================] - 28s 10ms/step - loss: 4.6892e-07 - accuracy: 0.9557 - auc: 0.5012 - val_loss: 1.3678 - val_accuracy: 0.9558 - val_auc: 0.5036\n",
      "Epoch 2/80\n",
      "2892/2892 [==============================] - 27s 9ms/step - loss: 8.0221e-08 - accuracy: 0.9561 - auc: 0.5057 - val_loss: 1.0838 - val_accuracy: 0.9558 - val_auc: 0.5009\n",
      "Epoch 3/80\n",
      "2892/2892 [==============================] - 27s 9ms/step - loss: 7.2969e-08 - accuracy: 0.9562 - auc: 0.5092 - val_loss: 0.7377 - val_accuracy: 0.9558 - val_auc: 0.5144\n",
      "Epoch 4/80\n",
      "2892/2892 [==============================] - 27s 9ms/step - loss: 5.5541e-08 - accuracy: 0.9562 - auc: 0.5173 - val_loss: 0.6479 - val_accuracy: 0.9558 - val_auc: 0.5231\n",
      "Epoch 5/80\n",
      "2892/2892 [==============================] - 28s 10ms/step - loss: 5.1357e-08 - accuracy: 0.9562 - auc: 0.5289 - val_loss: 0.5972 - val_accuracy: 0.9558 - val_auc: 0.5321\n",
      "Epoch 6/80\n",
      "2892/2892 [==============================] - 27s 9ms/step - loss: 4.8938e-08 - accuracy: 0.9561 - auc: 0.5314 - val_loss: 0.5716 - val_accuracy: 0.9558 - val_auc: 0.5401\n",
      "Epoch 7/80\n",
      "2892/2892 [==============================] - 27s 9ms/step - loss: 4.6099e-08 - accuracy: 0.9562 - auc: 0.5426 - val_loss: 0.5772 - val_accuracy: 0.9558 - val_auc: 0.5319\n",
      "Epoch 8/80\n",
      "2892/2892 [==============================] - 27s 9ms/step - loss: 4.4763e-08 - accuracy: 0.9562 - auc: 0.5474 - val_loss: 0.5476 - val_accuracy: 0.9558 - val_auc: 0.5499\n",
      "Epoch 9/80\n",
      "2892/2892 [==============================] - 29s 10ms/step - loss: 4.3107e-08 - accuracy: 0.9562 - auc: 0.5565 - val_loss: 0.5194 - val_accuracy: 0.9558 - val_auc: 0.5607\n",
      "Epoch 10/80\n",
      "2892/2892 [==============================] - 29s 10ms/step - loss: 4.1799e-08 - accuracy: 0.9562 - auc: 0.5651 - val_loss: 0.5521 - val_accuracy: 0.9558 - val_auc: 0.5462\n",
      "Epoch 11/80\n",
      "2892/2892 [==============================] - 29s 10ms/step - loss: 4.0797e-08 - accuracy: 0.9562 - auc: 0.5663 - val_loss: 0.4822 - val_accuracy: 0.9558 - val_auc: 0.5699\n",
      "Epoch 12/80\n",
      "2892/2892 [==============================] - 29s 10ms/step - loss: 3.9381e-08 - accuracy: 0.9562 - auc: 0.5782 - val_loss: 0.4676 - val_accuracy: 0.9559 - val_auc: 0.5901\n",
      "Epoch 13/80\n",
      "2892/2892 [==============================] - 25s 8ms/step - loss: 3.8557e-08 - accuracy: 0.9562 - auc: 0.5823 - val_loss: 0.4590 - val_accuracy: 0.9558 - val_auc: 0.5949\n",
      "Epoch 14/80\n",
      "2892/2892 [==============================] - 25s 9ms/step - loss: 3.7953e-08 - accuracy: 0.9562 - auc: 0.5852 - val_loss: 0.4562 - val_accuracy: 0.9558 - val_auc: 0.5804\n",
      "Epoch 15/80\n",
      "2892/2892 [==============================] - 25s 9ms/step - loss: 3.7139e-08 - accuracy: 0.9562 - auc: 0.5867 - val_loss: 0.4531 - val_accuracy: 0.9559 - val_auc: 0.5909\n",
      "Epoch 16/80\n",
      "2892/2892 [==============================] - 24s 8ms/step - loss: 3.6367e-08 - accuracy: 0.9562 - auc: 0.5877 - val_loss: 0.4325 - val_accuracy: 0.9559 - val_auc: 0.5992\n",
      "Epoch 17/80\n",
      "2892/2892 [==============================] - 25s 9ms/step - loss: 3.5123e-08 - accuracy: 0.9563 - auc: 0.5986 - val_loss: 0.4177 - val_accuracy: 0.9560 - val_auc: 0.6014\n",
      "Epoch 18/80\n",
      "2892/2892 [==============================] - 25s 9ms/step - loss: 3.4361e-08 - accuracy: 0.9563 - auc: 0.6041 - val_loss: 0.4325 - val_accuracy: 0.9561 - val_auc: 0.6027\n",
      "Epoch 19/80\n",
      "2892/2892 [==============================] - 25s 9ms/step - loss: 3.5710e-08 - accuracy: 0.9563 - auc: 0.5836 - val_loss: 0.4527 - val_accuracy: 0.9558 - val_auc: 0.5597\n",
      "Epoch 20/80\n",
      "2892/2892 [==============================] - 23s 8ms/step - loss: 3.4770e-08 - accuracy: 0.9562 - auc: 0.5757 - val_loss: 0.4118 - val_accuracy: 0.9558 - val_auc: 0.5884\n",
      "Epoch 21/80\n",
      "2892/2892 [==============================] - 25s 9ms/step - loss: 3.3229e-08 - accuracy: 0.9562 - auc: 0.5912 - val_loss: 0.3990 - val_accuracy: 0.9559 - val_auc: 0.6063\n",
      "Epoch 22/80\n",
      "2892/2892 [==============================] - 25s 9ms/step - loss: 3.2405e-08 - accuracy: 0.9563 - auc: 0.5958 - val_loss: 0.3914 - val_accuracy: 0.9558 - val_auc: 0.5917\n",
      "Epoch 23/80\n",
      "2892/2892 [==============================] - 25s 9ms/step - loss: 3.1675e-08 - accuracy: 0.9563 - auc: 0.6059 - val_loss: 0.3936 - val_accuracy: 0.9561 - val_auc: 0.5992\n",
      "Epoch 24/80\n",
      "2892/2892 [==============================] - 26s 9ms/step - loss: 3.1014e-08 - accuracy: 0.9564 - auc: 0.6098 - val_loss: 0.3769 - val_accuracy: 0.9558 - val_auc: 0.5991\n",
      "Epoch 25/80\n",
      "2892/2892 [==============================] - 25s 9ms/step - loss: 3.2163e-08 - accuracy: 0.9562 - auc: 0.5929 - val_loss: 0.4003 - val_accuracy: 0.9558 - val_auc: 0.5711\n",
      "Epoch 26/80\n",
      "2892/2892 [==============================] - 25s 9ms/step - loss: 3.0941e-08 - accuracy: 0.9561 - auc: 0.6092 - val_loss: 0.3582 - val_accuracy: 0.9558 - val_auc: 0.6345\n",
      "Epoch 27/80\n",
      "2892/2892 [==============================] - 26s 9ms/step - loss: 2.9741e-08 - accuracy: 0.9562 - auc: 0.6260 - val_loss: 0.3476 - val_accuracy: 0.9561 - val_auc: 0.6349\n",
      "Epoch 28/80\n",
      "2892/2892 [==============================] - 25s 9ms/step - loss: 3.1482e-08 - accuracy: 0.9563 - auc: 0.6086 - val_loss: 0.3904 - val_accuracy: 0.9560 - val_auc: 0.5888\n",
      "Epoch 29/80\n",
      "2892/2892 [==============================] - 25s 9ms/step - loss: 3.0673e-08 - accuracy: 0.9563 - auc: 0.5850 - val_loss: 0.3638 - val_accuracy: 0.9559 - val_auc: 0.5841\n",
      "Epoch 30/80\n",
      "2892/2892 [==============================] - 25s 9ms/step - loss: 2.9096e-08 - accuracy: 0.9564 - auc: 0.6012 - val_loss: 0.3389 - val_accuracy: 0.9563 - val_auc: 0.6196\n",
      "Epoch 31/80\n",
      "2892/2892 [==============================] - 26s 9ms/step - loss: 2.8218e-08 - accuracy: 0.9567 - auc: 0.6161 - val_loss: 0.3621 - val_accuracy: 0.9559 - val_auc: 0.5917\n",
      "Epoch 32/80\n",
      "2892/2892 [==============================] - 25s 9ms/step - loss: 2.8174e-08 - accuracy: 0.9564 - auc: 0.6096 - val_loss: 0.3494 - val_accuracy: 0.9559 - val_auc: 0.6129\n",
      "Epoch 33/80\n",
      "2892/2892 [==============================] - 24s 8ms/step - loss: 2.8617e-08 - accuracy: 0.9563 - auc: 0.6092 - val_loss: 0.3538 - val_accuracy: 0.9560 - val_auc: 0.5945\n",
      "Epoch 34/80\n",
      "2892/2892 [==============================] - 25s 9ms/step - loss: 2.7765e-08 - accuracy: 0.9565 - auc: 0.6165 - val_loss: 0.3362 - val_accuracy: 0.9564 - val_auc: 0.6253\n",
      "Epoch 35/80\n",
      "2892/2892 [==============================] - 33s 12ms/step - loss: 2.7783e-08 - accuracy: 0.9564 - auc: 0.6187 - val_loss: 0.4465 - val_accuracy: 0.9558 - val_auc: 0.5083\n",
      "Epoch 36/80\n",
      "2892/2892 [==============================] - 31s 11ms/step - loss: 2.8184e-08 - accuracy: 0.9563 - auc: 0.6137 - val_loss: 0.3441 - val_accuracy: 0.9560 - val_auc: 0.6199\n",
      "Epoch 37/80\n",
      "2892/2892 [==============================] - 28s 10ms/step - loss: 2.7614e-08 - accuracy: 0.9565 - auc: 0.6135 - val_loss: 0.3530 - val_accuracy: 0.9559 - val_auc: 0.5628\n",
      "Epoch 38/80\n",
      "2892/2892 [==============================] - 29s 10ms/step - loss: 2.6856e-08 - accuracy: 0.9566 - auc: 0.6277 - val_loss: 0.3217 - val_accuracy: 0.9564 - val_auc: 0.6252\n",
      "Epoch 39/80\n",
      "2892/2892 [==============================] - 27s 9ms/step - loss: 2.6688e-08 - accuracy: 0.9569 - auc: 0.6262 - val_loss: 0.3482 - val_accuracy: 0.9558 - val_auc: 0.6090\n",
      "Epoch 40/80\n",
      "2892/2892 [==============================] - 28s 10ms/step - loss: 2.6918e-08 - accuracy: 0.9564 - auc: 0.6202 - val_loss: 0.3288 - val_accuracy: 0.9566 - val_auc: 0.6181\n",
      "Epoch 41/80\n",
      "2892/2892 [==============================] - 27s 9ms/step - loss: 2.6538e-08 - accuracy: 0.9569 - auc: 0.6209 - val_loss: 0.3289 - val_accuracy: 0.9562 - val_auc: 0.6055\n",
      "Epoch 42/80\n",
      "2892/2892 [==============================] - 29s 10ms/step - loss: 2.6447e-08 - accuracy: 0.9570 - auc: 0.6249 - val_loss: 0.3349 - val_accuracy: 0.9558 - val_auc: 0.6371\n",
      "Epoch 43/80\n",
      "2892/2892 [==============================] - 29s 10ms/step - loss: 2.6796e-08 - accuracy: 0.9562 - auc: 0.6287 - val_loss: 0.3441 - val_accuracy: 0.9558 - val_auc: 0.5999\n",
      "Epoch 44/80\n",
      "2892/2892 [==============================] - 28s 10ms/step - loss: 2.6746e-08 - accuracy: 0.9562 - auc: 0.6267 - val_loss: 0.3219 - val_accuracy: 0.9559 - val_auc: 0.6216\n",
      "Epoch 45/80\n",
      "2892/2892 [==============================] - 28s 10ms/step - loss: 2.6120e-08 - accuracy: 0.9563 - auc: 0.6313 - val_loss: 0.3314 - val_accuracy: 0.9559 - val_auc: 0.6264\n",
      "Epoch 46/80\n",
      "2892/2892 [==============================] - 28s 10ms/step - loss: 2.6510e-08 - accuracy: 0.9563 - auc: 0.6224 - val_loss: 0.3394 - val_accuracy: 0.9559 - val_auc: 0.5937\n",
      "Epoch 47/80\n",
      "2892/2892 [==============================] - 27s 9ms/step - loss: 2.6270e-08 - accuracy: 0.9564 - auc: 0.6258 - val_loss: 0.3176 - val_accuracy: 0.9559 - val_auc: 0.6205\n",
      "Epoch 48/80\n",
      "2892/2892 [==============================] - 28s 10ms/step - loss: 2.6040e-08 - accuracy: 0.9564 - auc: 0.6254 - val_loss: 0.3371 - val_accuracy: 0.9558 - val_auc: 0.5846\n",
      "Epoch 49/80\n",
      "2892/2892 [==============================] - 28s 10ms/step - loss: 2.6309e-08 - accuracy: 0.9563 - auc: 0.6245 - val_loss: 0.3614 - val_accuracy: 0.9558 - val_auc: 0.5845\n",
      "Epoch 50/80\n",
      "2892/2892 [==============================] - 28s 10ms/step - loss: 2.6218e-08 - accuracy: 0.9563 - auc: 0.6352 - val_loss: 0.3192 - val_accuracy: 0.9560 - val_auc: 0.6499\n",
      "Epoch 51/80\n",
      "2892/2892 [==============================] - 29s 10ms/step - loss: 2.6577e-08 - accuracy: 0.9563 - auc: 0.6320 - val_loss: 0.3674 - val_accuracy: 0.9558 - val_auc: 0.5704\n",
      "Epoch 52/80\n",
      "2892/2892 [==============================] - 28s 10ms/step - loss: 2.6455e-08 - accuracy: 0.9564 - auc: 0.6302 - val_loss: 0.3138 - val_accuracy: 0.9563 - val_auc: 0.6451\n",
      "Epoch 53/80\n",
      "2892/2892 [==============================] - 27s 9ms/step - loss: 2.6703e-08 - accuracy: 0.9565 - auc: 0.6189 - val_loss: 0.3313 - val_accuracy: 0.9561 - val_auc: 0.6227\n",
      "Epoch 54/80\n",
      "2892/2892 [==============================] - 27s 9ms/step - loss: 2.6229e-08 - accuracy: 0.9564 - auc: 0.6212 - val_loss: 0.3213 - val_accuracy: 0.9561 - val_auc: 0.6380\n",
      "Epoch 55/80\n",
      "2892/2892 [==============================] - 27s 10ms/step - loss: 2.5999e-08 - accuracy: 0.9564 - auc: 0.6315 - val_loss: 0.3344 - val_accuracy: 0.9559 - val_auc: 0.6237\n",
      "Epoch 56/80\n",
      "2892/2892 [==============================] - 27s 9ms/step - loss: 2.5806e-08 - accuracy: 0.9566 - auc: 0.6390 - val_loss: 0.3165 - val_accuracy: 0.9562 - val_auc: 0.6202\n",
      "Epoch 57/80\n",
      "2892/2892 [==============================] - 29s 10ms/step - loss: 2.6501e-08 - accuracy: 0.9566 - auc: 0.6264 - val_loss: 0.3198 - val_accuracy: 0.9572 - val_auc: 0.6336\n",
      "Epoch 58/80\n",
      "2892/2892 [==============================] - 28s 10ms/step - loss: 2.7292e-08 - accuracy: 0.9567 - auc: 0.6006 - val_loss: 0.3546 - val_accuracy: 0.9559 - val_auc: 0.5749\n",
      "Epoch 59/80\n",
      "2892/2892 [==============================] - 28s 10ms/step - loss: 2.6666e-08 - accuracy: 0.9566 - auc: 0.6178 - val_loss: 0.3336 - val_accuracy: 0.9559 - val_auc: 0.6199\n",
      "Epoch 60/80\n",
      "2892/2892 [==============================] - 29s 10ms/step - loss: 2.6088e-08 - accuracy: 0.9567 - auc: 0.6339 - val_loss: 0.3159 - val_accuracy: 0.9565 - val_auc: 0.6384\n",
      "Epoch 61/80\n",
      "2892/2892 [==============================] - 26s 9ms/step - loss: 2.6147e-08 - accuracy: 0.9566 - auc: 0.6139 - val_loss: 0.3303 - val_accuracy: 0.9560 - val_auc: 0.6111\n",
      "Epoch 62/80\n",
      "2892/2892 [==============================] - 28s 10ms/step - loss: 2.6331e-08 - accuracy: 0.9566 - auc: 0.6194 - val_loss: 0.3389 - val_accuracy: 0.9559 - val_auc: 0.5939\n",
      "Epoch 63/80\n",
      "2892/2892 [==============================] - 27s 9ms/step - loss: 2.5731e-08 - accuracy: 0.9566 - auc: 0.6280 - val_loss: 0.3144 - val_accuracy: 0.9560 - val_auc: 0.6431\n",
      "Epoch 64/80\n",
      "2892/2892 [==============================] - 26s 9ms/step - loss: 2.6099e-08 - accuracy: 0.9564 - auc: 0.6290 - val_loss: 0.3408 - val_accuracy: 0.9561 - val_auc: 0.5958\n",
      "Epoch 00064: early stopping\n",
      "The training took 0.497561897304323 hours\n"
     ]
    }
   ],
   "source": [
    "start = time.time()\n",
    "history = model.fit(X_train.values, y_train.values, batch_size=512,\n",
    "                    epochs=80, shuffle=True, validation_data=(X_val.values, y_val.values),\n",
    "                    sample_weight=train_weights.values, class_weight=class_weights, \n",
    "                    callbacks=[TB, ES, MC])\n",
    "end = time.time()\n",
    "print(f\"The training took {(end - start)/3600} hours\")"
   ]
  },
  {
   "cell_type": "markdown",
   "metadata": {},
   "source": [
    "### Loss with epochs - Best seen with TensorBoard"
   ]
  },
  {
   "cell_type": "code",
   "execution_count": 27,
   "metadata": {},
   "outputs": [
    {
     "data": {
      "image/png": "[encoded data removed]",
      "text/plain": [
       "<Figure size 432x288 with 1 Axes>"
      ]
     },
     "metadata": {
      "needs_background": "light"
     },
     "output_type": "display_data"
    }
   ],
   "source": [
    "plt.title(\"Loss with epochs\")\n",
    "plt.plot(history.history[\"loss\"], label='train')\n",
    "plt.plot(history.history[\"val_loss\"], label='val')\n",
    "plt.legend()\n",
    "plt.show()"
   ]
  }
 ],
 "metadata": {
  "kernelspec": {
   "display_name": "Python 3",
   "language": "python",
   "name": "python3"
  },
  "language_info": {
   "codemirror_mode": {
    "name": "ipython",
    "version": 3
   },
   "file_extension": ".py",
   "mimetype": "text/x-python",
   "name": "python",
   "nbconvert_exporter": "python",
   "pygments_lexer": "ipython3",
   "version": "3.7.6"
  }
 },
 "nbformat": 4,
 "nbformat_minor": 4
}
