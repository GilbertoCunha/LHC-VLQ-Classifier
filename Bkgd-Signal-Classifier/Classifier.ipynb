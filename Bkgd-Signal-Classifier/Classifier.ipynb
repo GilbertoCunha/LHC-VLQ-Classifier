{
 "cells": [
  {
   "cell_type": "code",
   "execution_count": 1,
   "metadata": {},
   "outputs": [],
   "source": [
    "import time\n",
    "import numpy as np\n",
    "import pandas as pd\n",
    "from tensorflow import keras\n",
    "from sklearn.model_selection import train_test_split"
   ]
  },
  {
   "cell_type": "markdown",
   "metadata": {},
   "source": [
    "# Importar dados"
   ]
  },
  {
   "cell_type": "markdown",
   "metadata": {},
   "source": [
    "As labels dos dados estão definidas tais que:\n",
    "- Background: 0\n",
    "- Sinal: 1"
   ]
  },
  {
   "cell_type": "code",
   "execution_count": 2,
   "metadata": {},
   "outputs": [],
   "source": [
    "# Gather data\n",
    "X_train = pd.read_hdf(\"Data/Processed_Data.h5\", key='data')\n",
    "y_train = X_train[\"Label\"].values\n",
    "X_train.drop([\"Label\"], axis=1, inplace=True)"
   ]
  },
  {
   "cell_type": "code",
   "execution_count": 3,
   "metadata": {},
   "outputs": [],
   "source": [
    "# Standardize data\n",
    "for column in X_train:\n",
    "    if column != \"gen_weights\":\n",
    "        X_train[column] = (X_train[column] - X_train[column].mean()) / X_train[column].std()"
   ]
  },
  {
   "cell_type": "code",
   "execution_count": 5,
   "metadata": {},
   "outputs": [
    {
     "name": "stdout",
     "output_type": "stream",
     "text": [
      "Electron1_Eta -> Mean: 8.244256103075231e-16 | Std: 0.9999999999999488\n",
      "Electron1_PT -> Mean: 5.266764586509037e-16 | Std: 0.9999999999999273\n",
      "Electron1_Phi -> Mean: -1.1803463218112491e-15 | Std: 1.00000000000046\n",
      "Electron2_Eta -> Mean: 2.9209884110550466e-16 | Std: 1.0000000000008142\n",
      "Electron2_PT -> Mean: 1.9314990560111155e-15 | Std: 1.0000000000001907\n",
      "Electron2_Phi -> Mean: 2.0355066321821372e-15 | Std: 0.9999999999975362\n",
      "Electron_Multi -> Mean: -3.721393837839373e-15 | Std: 1.0000000000000093\n",
      "FatJet1_Eta -> Mean: 6.584636470709267e-16 | Std: 1.000000000000354\n",
      "FatJet1_Mass -> Mean: -1.27604544776005e-15 | Std: 0.9999999999996145\n",
      "FatJet1_PT -> Mean: -5.496819275422567e-16 | Std: 1.0000000000003848\n",
      "FatJet1_Phi -> Mean: -2.0402636166451658e-15 | Std: 1.000000000001522\n",
      "FatJet1_Tau1 -> Mean: -5.424593091886727e-17 | Std: 0.9999999999980551\n",
      "FatJet1_Tau2 -> Mean: 3.0999559655592917e-15 | Std: 0.9999999999991862\n",
      "FatJet1_Tau3 -> Mean: 2.731869597770016e-15 | Std: 0.9999999999989034\n",
      "FatJet1_Tau4 -> Mean: -2.8183010771064368e-15 | Std: 1.0000000000010143\n",
      "FatJet1_Tau5 -> Mean: -8.503239128418497e-16 | Std: 1.0000000000009692\n",
      "FatJet2_Eta -> Mean: 3.4030591886690002e-15 | Std: 0.9999999999990279\n",
      "FatJet2_Mass -> Mean: 2.10712768106453e-15 | Std: 1.0000000000014682\n",
      "FatJet2_PT -> Mean: 1.6451074617888737e-15 | Std: 0.999999999999153\n",
      "FatJet2_Phi -> Mean: 4.438791055668483e-15 | Std: 0.9999999999977061\n",
      "FatJet3_Eta -> Mean: 2.536607283674054e-15 | Std: 0.9999999999993363\n",
      "FatJet3_Mass -> Mean: 1.7949029101125416e-15 | Std: 0.9999999999992418\n",
      "FatJet3_PT -> Mean: -1.442131919339426e-15 | Std: 0.9999999999975236\n",
      "FatJet3_Phi -> Mean: 2.415649332630227e-15 | Std: 0.9999999999981929\n",
      "FatJet4_Eta -> Mean: 1.3164911255211888e-15 | Std: 0.9999999999979081\n",
      "FatJet4_Mass -> Mean: 2.79144138014173e-15 | Std: 1.0000000000003908\n",
      "FatJet4_PT -> Mean: -2.1764977240481634e-15 | Std: 0.9999999999981926\n",
      "FatJet4_Phi -> Mean: -5.32985895877286e-15 | Std: 0.9999999999995752\n",
      "FatJet5_Eta -> Mean: 8.136604895235776e-16 | Std: 0.9999999999992575\n",
      "FatJet5_Mass -> Mean: 1.1298892769023594e-14 | Std: 1.0000000000015545\n",
      "FatJet5_PT -> Mean: -7.116106110582305e-15 | Std: 1.000000000004427\n",
      "FatJet5_Phi -> Mean: 3.808964340731445e-15 | Std: 0.9999999999990352\n",
      "FatJet_Multi -> Mean: 1.6486095779999022e-15 | Std: 1.0000000000019975\n",
      "Jet1_BTag -> Mean: 2.698425352256209e-15 | Std: 0.9999999999997117\n",
      "Jet1_Eta -> Mean: 3.514935748827306e-17 | Std: 0.9999999999999878\n",
      "Jet1_Mass -> Mean: -3.9529555314894833e-16 | Std: 1.0000000000000044\n",
      "Jet1_PT -> Mean: 4.4821301692071014e-17 | Std: 0.9999999999999998\n",
      "Jet1_Phi -> Mean: -3.211407665814446e-17 | Std: 0.9999999999999996\n",
      "Jet2_BTag -> Mean: 2.096587759139698e-15 | Std: 0.999999999999757\n",
      "Jet2_Eta -> Mean: -3.2139701552837233e-16 | Std: 0.9999999999999967\n",
      "Jet2_Mass -> Mean: 6.482074495957715e-16 | Std: 0.9999999999999928\n",
      "Jet2_PT -> Mean: 4.687481013184518e-16 | Std: 1.000000000000322\n",
      "Jet2_Phi -> Mean: -1.8583338129697116e-16 | Std: 1.000000000000238\n",
      "Jet3_BTag -> Mean: -2.599852749599274e-15 | Std: 1.000000000001027\n",
      "Jet3_Eta -> Mean: -5.35807897674173e-16 | Std: 0.9999999999994774\n",
      "Jet3_Mass -> Mean: -2.640824786534617e-15 | Std: 0.9999999999989897\n",
      "Jet3_PT -> Mean: -5.00776525312543e-16 | Std: 1.0000000000006466\n",
      "Jet3_Phi -> Mean: 6.403325096285363e-16 | Std: 1.0000000000007574\n",
      "Jet4_BTag -> Mean: -5.753694167481367e-15 | Std: 0.999999999998331\n",
      "Jet4_Eta -> Mean: 2.9314051363707785e-15 | Std: 1.0000000000000127\n",
      "Jet4_Mass -> Mean: 1.64903500513924e-15 | Std: 1.0000000000013496\n",
      "Jet4_PT -> Mean: 1.3254982329090452e-15 | Std: 0.9999999999987453\n",
      "Jet4_Phi -> Mean: -5.248296085345152e-16 | Std: 0.9999999999997397\n",
      "Jet5_BTag -> Mean: -2.0065465305259963e-15 | Std: 1.0000000000002445\n",
      "Jet5_Eta -> Mean: -6.272951531344836e-16 | Std: 0.9999999999982303\n",
      "Jet5_Mass -> Mean: 6.315948034227241e-16 | Std: 0.9999999999988906\n",
      "Jet5_PT -> Mean: 4.427936424017326e-16 | Std: 0.9999999999986832\n",
      "Jet5_Phi -> Mean: -5.654006094865089e-15 | Std: 0.9999999999975493\n",
      "Jet_Multi -> Mean: 1.486260909266748e-16 | Std: 0.9999999999992277\n",
      "MissingET_MET -> Mean: 1.7028430297226823e-17 | Std: 0.9999999999999927\n",
      "MissingET_Phi -> Mean: 3.0481570915458954e-17 | Std: 0.9999999999999967\n",
      "Muon1_Eta -> Mean: 9.073449891897386e-16 | Std: 0.9999999999992845\n",
      "Muon1_PT -> Mean: 7.661608110123782e-16 | Std: 1.0000000000009623\n",
      "Muon1_Phi -> Mean: 6.142852765747125e-16 | Std: 0.9999999999990579\n",
      "Muon2_Eta -> Mean: -6.940772918087964e-16 | Std: 1.000000000000217\n",
      "Muon2_PT -> Mean: -1.5444740900689866e-15 | Std: 0.999999999999329\n",
      "Muon2_Phi -> Mean: -1.8940297468383143e-15 | Std: 0.9999999999987104\n",
      "Muon_Multi -> Mean: -2.519874149112329e-15 | Std: 0.9999999999992614\n",
      "ScalarHT_HT -> Mean: 5.052599601249774e-17 | Std: 0.9999999999999971\n",
      "gen_weights -> Mean: 3.264224294290487e-09 | Std: 6.990107623363782e-21\n"
     ]
    }
   ],
   "source": [
    "for column in X_train: print(f\"{column} -> Mean: {X_train[column].mean()} | Std: {X_train[column].std()}\")\n",
    "X_train = X_train.values"
   ]
  },
  {
   "cell_type": "code",
   "execution_count": 6,
   "metadata": {},
   "outputs": [
    {
     "name": "stdout",
     "output_type": "stream",
     "text": [
      "X_train shape: (156580, 70) | X_test shape: (39145, 70)\n",
      "y_train shape: (156580,) | y_test shape: (39145,)\n"
     ]
    }
   ],
   "source": [
    "# Split data into training and testing\n",
    "X_train, X_test, y_train, y_test = train_test_split(X_train, y_train, test_size=0.2, random_state=42)\n",
    "print(f\"X_train shape: {X_train.shape} | X_test shape: {X_test.shape}\")\n",
    "print(f\"y_train shape: {y_train.shape} | y_test shape: {y_test.shape}\")"
   ]
  },
  {
   "cell_type": "code",
   "execution_count": 7,
   "metadata": {},
   "outputs": [
    {
     "name": "stdout",
     "output_type": "stream",
     "text": [
      "X_train shape: (156580, 69) | X_test shape: (39145, 69)\n",
      "y_train shape: (156580,) | y_test shape: (39145,)\n",
      "train_weights shape: (156580,) | test_weights shape: (39145,)\n"
     ]
    }
   ],
   "source": [
    "# Get weights for each dataset\n",
    "train_weights, test_weights = X_train[:, -1], X_test[:, -1]\n",
    "X_train, X_test = X_train[:, :-1], X_test[:, :-1]\n",
    "print(f\"X_train shape: {X_train.shape} | X_test shape: {X_test.shape}\")\n",
    "print(f\"y_train shape: {y_train.shape} | y_test shape: {y_test.shape}\")\n",
    "print(f\"train_weights shape: {train_weights.shape} | test_weights shape: {test_weights.shape}\")"
   ]
  },
  {
   "cell_type": "markdown",
   "metadata": {},
   "source": [
    "# Build the model"
   ]
  },
  {
   "cell_type": "code",
   "execution_count": 8,
   "metadata": {},
   "outputs": [
    {
     "name": "stdout",
     "output_type": "stream",
     "text": [
      "Model: \"model\"\n",
      "_________________________________________________________________\n",
      "Layer (type)                 Output Shape              Param #   \n",
      "=================================================================\n",
      "input_1 (InputLayer)         [(None, 69)]              0         \n",
      "_________________________________________________________________\n",
      "dense (Dense)                (None, 90)                6300      \n",
      "_________________________________________________________________\n",
      "dense_1 (Dense)              (None, 120)               10920     \n",
      "_________________________________________________________________\n",
      "dense_2 (Dense)              (None, 80)                9680      \n",
      "_________________________________________________________________\n",
      "dense_3 (Dense)              (None, 40)                3240      \n",
      "_________________________________________________________________\n",
      "dense_4 (Dense)              (None, 2)                 82        \n",
      "=================================================================\n",
      "Total params: 30,222\n",
      "Trainable params: 30,222\n",
      "Non-trainable params: 0\n",
      "_________________________________________________________________\n"
     ]
    }
   ],
   "source": [
    "inputs = keras.Input(shape=(69,))\n",
    "fc1 = keras.layers.Dense(90, activation='relu')(inputs)\n",
    "fc2 = keras.layers.Dense(120, activation='relu')(fc1)\n",
    "fc3 = keras.layers.Dense(80, activation='relu')(fc2)\n",
    "fc4 = keras.layers.Dense(40, activation='relu')(fc3)\n",
    "outputs = keras.layers.Dense(2, activation='softmax')(fc4)\n",
    "\n",
    "model = keras.Model(inputs, outputs)\n",
    "model.compile(optimizer='adam', loss=\"sparse_categorical_crossentropy\", metrics=[\"accuracy\"])\n",
    "model.summary()"
   ]
  },
  {
   "cell_type": "code",
   "execution_count": 9,
   "metadata": {},
   "outputs": [],
   "source": [
    "# Model name\n",
    "name = str(time.time())"
   ]
  },
  {
   "cell_type": "markdown",
   "metadata": {},
   "source": [
    "# Callbacks "
   ]
  },
  {
   "cell_type": "code",
   "execution_count": 10,
   "metadata": {},
   "outputs": [],
   "source": [
    "# Tensorboard\n",
    "TB = keras.callbacks.TensorBoard(\"logs/\" + name)\n",
    "\n",
    "# Early Stopping\n",
    "ES = keras.callbacks.EarlyStopping(monitor=\"val_loss\", patience=6, verbose=2, mode=\"min\")\n",
    "\n",
    "# Model Checkpoint\n",
    "MC = keras.callbacks.ModelCheckpoint(\"models/\" + name + \".h5\", save_best_only=True, monitor=\"val_loss\",\n",
    "                                     mode=\"min\")"
   ]
  },
  {
   "cell_type": "markdown",
   "metadata": {},
   "source": [
    "# Treinar modelo"
   ]
  },
  {
   "cell_type": "code",
   "execution_count": 11,
   "metadata": {},
   "outputs": [
    {
     "name": "stdout",
     "output_type": "stream",
     "text": [
      "Epoch 1/20\n",
      "1040/1040 [==============================] - 5s 5ms/step - loss: 2.4266e-09 - accuracy: 0.4626 - val_loss: 2.2362e-09 - val_accuracy: 0.6497\n",
      "Epoch 2/20\n",
      "1040/1040 [==============================] - 5s 5ms/step - loss: 2.0305e-09 - accuracy: 0.8008 - val_loss: 1.8446e-09 - val_accuracy: 0.9049\n",
      "Epoch 3/20\n",
      "1040/1040 [==============================] - 5s 5ms/step - loss: 1.6779e-09 - accuracy: 0.9542 - val_loss: 1.5300e-09 - val_accuracy: 0.9811\n",
      "Epoch 4/20\n",
      "1040/1040 [==============================] - 5s 5ms/step - loss: 1.3994e-09 - accuracy: 0.9920 - val_loss: 1.2832e-09 - val_accuracy: 0.9968\n",
      "Epoch 5/20\n",
      "1040/1040 [==============================] - 5s 5ms/step - loss: 1.1795e-09 - accuracy: 0.9987 - val_loss: 1.0868e-09 - val_accuracy: 0.9994\n",
      "Epoch 6/20\n",
      "1040/1040 [==============================] - 5s 5ms/step - loss: 1.0034e-09 - accuracy: 0.9998 - val_loss: 9.2847e-10 - val_accuracy: 0.9998\n",
      "Epoch 7/20\n",
      "1040/1040 [==============================] - 5s 5ms/step - loss: 8.6067e-10 - accuracy: 1.0000 - val_loss: 7.9948e-10 - val_accuracy: 1.0000\n",
      "Epoch 8/20\n",
      "1040/1040 [==============================] - 5s 5ms/step - loss: 7.4384e-10 - accuracy: 1.0000 - val_loss: 6.9344e-10 - val_accuracy: 1.0000\n",
      "Epoch 9/20\n",
      "1040/1040 [==============================] - 5s 5ms/step - loss: 6.4742e-10 - accuracy: 1.0000 - val_loss: 6.0560e-10 - val_accuracy: 1.0000\n",
      "Epoch 10/20\n",
      "1040/1040 [==============================] - 5s 5ms/step - loss: 5.6728e-10 - accuracy: 1.0000 - val_loss: 5.3234e-10 - val_accuracy: 1.0000\n",
      "Epoch 11/20\n",
      "1040/1040 [==============================] - 6s 5ms/step - loss: 5.0024e-10 - accuracy: 1.0000 - val_loss: 4.7086e-10 - val_accuracy: 1.0000\n",
      "Epoch 12/20\n",
      "1040/1040 [==============================] - 5s 5ms/step - loss: 4.4380e-10 - accuracy: 1.0000 - val_loss: 4.1896e-10 - val_accuracy: 1.0000\n",
      "Epoch 13/20\n",
      "1040/1040 [==============================] - 5s 5ms/step - loss: 3.9600e-10 - accuracy: 1.0000 - val_loss: 3.7485e-10 - val_accuracy: 1.0000\n",
      "Epoch 14/20\n",
      "1040/1040 [==============================] - 5s 5ms/step - loss: 3.5527e-10 - accuracy: 1.0000 - val_loss: 3.3717e-10 - val_accuracy: 1.0000\n",
      "Epoch 15/20\n",
      "1040/1040 [==============================] - 6s 6ms/step - loss: 3.2037e-10 - accuracy: 1.0000 - val_loss: 3.0479e-10 - val_accuracy: 1.0000\n",
      "Epoch 16/20\n",
      "1040/1040 [==============================] - 6s 5ms/step - loss: 2.9029e-10 - accuracy: 1.0000 - val_loss: 2.7681e-10 - val_accuracy: 1.0000\n",
      "Epoch 17/20\n",
      "1040/1040 [==============================] - 6s 5ms/step - loss: 2.6422e-10 - accuracy: 1.0000 - val_loss: 2.5249e-10 - val_accuracy: 1.0000\n",
      "Epoch 18/20\n",
      "1040/1040 [==============================] - 6s 6ms/step - loss: 2.4152e-10 - accuracy: 1.0000 - val_loss: 2.3126e-10 - val_accuracy: 1.0000\n",
      "Epoch 19/20\n",
      "1040/1040 [==============================] - 6s 6ms/step - loss: 2.2164e-10 - accuracy: 1.0000 - val_loss: 2.1263e-10 - val_accuracy: 1.0000\n",
      "Epoch 20/20\n",
      "1040/1040 [==============================] - 5s 5ms/step - loss: 2.0416e-10 - accuracy: 1.0000 - val_loss: 1.9621e-10 - val_accuracy: 1.0000\n"
     ]
    },
    {
     "data": {
      "text/plain": [
       "<tensorflow.python.keras.callbacks.History at 0x7fc6ae41a450>"
      ]
     },
     "execution_count": 11,
     "metadata": {},
     "output_type": "execute_result"
    }
   ],
   "source": [
    "model.fit(X_train, y_train, batch_size=128, epochs=20, validation_split=0.15,\n",
    "          sample_weight=train_weights, shuffle=True, callbacks=[TB, ES, MC])"
   ]
  },
  {
   "cell_type": "code",
   "execution_count": null,
   "metadata": {},
   "outputs": [],
   "source": []
  }
 ],
 "metadata": {
  "kernelspec": {
   "display_name": "Python 3",
   "language": "python",
   "name": "python3"
  },
  "language_info": {
   "codemirror_mode": {
    "name": "ipython",
    "version": 3
   },
   "file_extension": ".py",
   "mimetype": "text/x-python",
   "name": "python",
   "nbconvert_exporter": "python",
   "pygments_lexer": "ipython3",
   "version": "3.7.6"
  }
 },
 "nbformat": 4,
 "nbformat_minor": 4
}
