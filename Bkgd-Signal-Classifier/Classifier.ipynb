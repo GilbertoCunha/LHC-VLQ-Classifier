{
 "cells": [
  {
   "cell_type": "code",
   "execution_count": 24,
   "metadata": {},
   "outputs": [
    {
     "name": "stderr",
     "output_type": "stream",
     "text": [
      "Using TensorFlow backend.\n"
     ]
    }
   ],
   "source": [
    "import numpy as np\n",
    "import pandas as pd\n",
    "from tensorflow import keras\n",
    "from keras import backend as K"
   ]
  },
  {
   "cell_type": "markdown",
   "metadata": {},
   "source": [
    "# Importar dados"
   ]
  },
  {
   "cell_type": "markdown",
   "metadata": {},
   "source": [
    "As labels dos dados estão definidas tais que:\n",
    "- Background: 0\n",
    "- Sinal: 1"
   ]
  },
  {
   "cell_type": "code",
   "execution_count": 19,
   "metadata": {},
   "outputs": [],
   "source": [
    "x_train = pd.read_hdf(\"Data/Processed_Data.h5\", key='data')\n",
    "y_train, gen_weights = x_train[\"Label\"].values, x_train[\"gen_weights\"].values\n",
    "x_train = x_train.drop([\"Label\", \"gen_weights\"], axis=1).values"
   ]
  },
  {
   "cell_type": "code",
   "execution_count": 23,
   "metadata": {},
   "outputs": [
    {
     "name": "stdout",
     "output_type": "stream",
     "text": [
      "(195725,) (195725, 69)\n"
     ]
    }
   ],
   "source": [
    "print(y_train.shape, x_train.shape)"
   ]
  },
  {
   "cell_type": "markdown",
   "metadata": {},
   "source": [
    "# Build the costum weighted loss function"
   ]
  },
  {
   "cell_type": "code",
   "execution_count": 25,
   "metadata": {},
   "outputs": [],
   "source": [
    "def weighted_loss(y_true, y_pred, weights):\n",
    "    # Normalizar pesos\n",
    "    norm_w = weights / K.sum(weights, axis=-1, keepdims=True)\n",
    "    \n",
    "    def crossentropy(y_true, y_pred):\n",
    "        # Normalizar previsões\n",
    "        y_pred /= K.sum(y_pred, axis=-1, keepdims=True)\n",
    "        \n",
    "        # Evitar NaN e overflows com clipping\n",
    "        y_pred = K.clip(y_pred, K.epsilon(), 1-K.epsilon())\n",
    "        \n",
    "        # Calcular weighted cross_entropy\n",
    "        result = y_true * norm_w * K.log(y_pred)\n",
    "        \n",
    "        return - K.sum(result, axis=-1)\n",
    "    \n",
    "    return crossentropy"
   ]
  },
  {
   "cell_type": "markdown",
   "metadata": {},
   "source": [
    "# Build the model"
   ]
  },
  {
   "cell_type": "code",
   "execution_count": 2,
   "metadata": {},
   "outputs": [
    {
     "name": "stdout",
     "output_type": "stream",
     "text": [
      "Model: \"model\"\n",
      "_________________________________________________________________\n",
      "Layer (type)                 Output Shape              Param #   \n",
      "=================================================================\n",
      "input_1 (InputLayer)         [(None, 69)]              0         \n",
      "_________________________________________________________________\n",
      "dense (Dense)                (None, 90)                6300      \n",
      "_________________________________________________________________\n",
      "dense_1 (Dense)              (None, 120)               10920     \n",
      "_________________________________________________________________\n",
      "dense_2 (Dense)              (None, 80)                9680      \n",
      "_________________________________________________________________\n",
      "dense_3 (Dense)              (None, 40)                3240      \n",
      "_________________________________________________________________\n",
      "dense_4 (Dense)              (None, 2)                 82        \n",
      "=================================================================\n",
      "Total params: 30,222\n",
      "Trainable params: 30,222\n",
      "Non-trainable params: 0\n",
      "_________________________________________________________________\n"
     ]
    }
   ],
   "source": [
    "inputs = keras.Input(shape=(69,))\n",
    "fc1 = keras.layers.Dense(90, activation='relu')(inputs)\n",
    "fc2 = keras.layers.Dense(120, activation='relu')(fc1)\n",
    "fc3 = keras.layers.Dense(80, activation='relu')(fc2)\n",
    "fc4 = keras.layers.Dense(40, activation='relu')(fc3)\n",
    "outputs = keras.layers.Dense(2, activation='softmax')(fc4)\n",
    "\n",
    "model = keras.Model(inputs, outputs)\n",
    "model.compile(optimizer='adam', loss=weighted_loss(weights))\n",
    "model.summary()"
   ]
  },
  {
   "cell_type": "code",
   "execution_count": null,
   "metadata": {},
   "outputs": [],
   "source": []
  }
 ],
 "metadata": {
  "kernelspec": {
   "display_name": "Python 3",
   "language": "python",
   "name": "python3"
  },
  "language_info": {
   "codemirror_mode": {
    "name": "ipython",
    "version": 3
   },
   "file_extension": ".py",
   "mimetype": "text/x-python",
   "name": "python",
   "nbconvert_exporter": "python",
   "pygments_lexer": "ipython3",
   "version": "3.7.6"
  }
 },
 "nbformat": 4,
 "nbformat_minor": 4
}
