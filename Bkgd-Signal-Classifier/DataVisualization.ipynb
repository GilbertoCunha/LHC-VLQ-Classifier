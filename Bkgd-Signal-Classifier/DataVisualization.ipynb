{
 "cells": [
  {
   "cell_type": "code",
   "execution_count": 1,
   "metadata": {},
   "outputs": [],
   "source": [
    "%config Inline_Backend.figure_format = \"svg\"\n",
    "import matplotlib.pyplot as plt\n",
    "import concurrent.futures\n",
    "from tqdm import tqdm\n",
    "import pandas as pd\n",
    "import numpy as np\n",
    "import glob         "
   ]
  },
  {
   "cell_type": "markdown",
   "metadata": {},
   "source": [
    "Algumas terminologias úteis:\n",
    "- Sample: Cada ficheiro csv ou h5\n",
    "- Evento: Cada linha das samples"
   ]
  },
  {
   "cell_type": "markdown",
   "metadata": {},
   "source": [
    "Questões:\n",
    "- O sinal representa nova física e o background processos já conhecidos da física de partículas? Caso contrário, qual o motivo da descrepância entre a quantidade de dados de sinal e background que utilizamos?\n",
    "- Se os dados não fossem gerados, mas antes retirados diretamente de resultados de medições, como dividiríamos os dados em samples e como obteríamos as cross-sections de cada sample?"
   ]
  },
  {
   "cell_type": "markdown",
   "metadata": {},
   "source": [
    "## Funções auxiliares de manipulação de dados"
   ]
  },
  {
   "cell_type": "code",
   "execution_count": null,
   "metadata": {},
   "outputs": [],
   "source": [
    "# Variáveis auxiliares para as funções\n",
    "del_cols = [\"MissingET_Eta\", \"gen_decay1\", \"gen_decay2\", \"gen_sample\", \"gen_filter\", \"gen_decay_filter\"]\n",
    "btag_cols = [\"Jet1_BTag\", \"Jet2_BTag\", \"Jet3_BTag\", \"Jet4_BTag\", \"Jet5_BTag\"]\n",
    "lepton_cols = [\"Electron_Multi\", \"Muon_Multi\"]"
   ]
  },
  {
   "cell_type": "code",
   "execution_count": 2,
   "metadata": {},
   "outputs": [],
   "source": [
    "def filter_event(event):\n",
    "    \"\"\"\n",
    "    Verifica se um evento apresenta pelo menos 1 btag e 2 leptões\n",
    "    \n",
    "    event -> pandas dataframe row: evento de uma sample\n",
    "    return -> Bool: resultado da verificação\n",
    "    \"\"\"\n",
    "    \n",
    "    # Calcular o nº de b-tags e leptões\n",
    "    b_tags = sum([event[col] for col in btag_cols])\n",
    "    leptons = sum([event[col] for col in lepton_cols])\n",
    "    \n",
    "    return (b_tags>0 and leptons>1)\n",
    "\n",
    "\n",
    "def process_df(args):\n",
    "    \"\"\"\n",
    "    Processa uma sample:\n",
    "    - Ordena as suas colunas\n",
    "    - Faz cuts nos seus eventos\n",
    "    - Remove colunas de dados não experimentais\n",
    "    \n",
    "    file -> string: file path\n",
    "    \n",
    "    return -> pandas dataframe: sample processada\n",
    "    \"\"\"\n",
    "    \n",
    "    # Ler a sample\n",
    "    file, form = args\n",
    "    if form == \"csv\":\n",
    "        df = pd.read_csv(file)\n",
    "    elif form == \"h5\":\n",
    "        df = pd.read_hdf(file)\n",
    "    \n",
    "    # Ordenar das colunas da sample\n",
    "    df.sort_index(axis=1, inplace=True)\n",
    "        \n",
    "    # Filtrar os eventos da sample\n",
    "    drop_list = [i for i in range(len(df)) if not filter_event(df.loc[i])]\n",
    "    print(f\"Drop_Ratio '{file}': {len(drop_list)/len(df):.3f}\")\n",
    "    df.drop(drop_list, inplace=True)\n",
    "        \n",
    "    # Calcular gen_weights\n",
    "    df[\"gen_xsec\"] = df[\"gen_xsec\"].mean()/df.shape[0]\n",
    "    df.rename(columns={\"gen_xsec\":\"gen_weights\"}, inplace=True)\n",
    "        \n",
    "    # Remover colunas de dados não experimentais\n",
    "    del_cols = [col for col in del_cols if col in df]\n",
    "    df.drop(del_cols, axis=1, inplace=True)\n",
    "      \n",
    "    return df\n",
    "\n",
    "\n",
    "def merge_files(path=\"\", form=\"csv\"):\n",
    "    \"\"\"\n",
    "    Coloca todas as samples de uma diretoria num único dataframe\n",
    "    Filtra os eventos de acordo com uma certa verificação\n",
    "    Calcula os pesos de cada evento\n",
    "    Filtra as colunas com dados não experimentais\n",
    "    \n",
    "    path -> string: diretoria dos dados\n",
    "    form -> string: formato dos dados a importar (csv ou h5)\n",
    "    \n",
    "    return -> pandas dataframe: dataframe resultante da concatenação e alteração dos files\n",
    "    \"\"\"\n",
    "            \n",
    "    with concurrent.futures.ThreadPoolExecutor(2) as executor:\n",
    "        # Processar paralelamente cada uma das samples\n",
    "        files = glob.glob(path + \"*.\" + form)\n",
    "        args = [(file, form) for file in files]\n",
    "        bkgd_data = list(tqdm(executor.map(process_df, args), total=len(files), \n",
    "                              desc=\"Processing samples\"))\n",
    "                \n",
    "    # Concatenar a lista de samples\n",
    "    if len(bkgd_data) > 1:\n",
    "        bkgd_data = pd.concat(bkgd_data)\n",
    "    else:\n",
    "        bkgd_data = bkgd_data[0]\n",
    "    \n",
    "    return bkgd_data"
   ]
  },
  {
   "cell_type": "markdown",
   "metadata": {},
   "source": [
    "## Gerar os dataframes dos dados"
   ]
  },
  {
   "cell_type": "code",
   "execution_count": 3,
   "metadata": {},
   "outputs": [
    {
     "name": "stderr",
     "output_type": "stream",
     "text": [
      "Processing samples:   0%|          | 0/18 [00:00<?, ?it/s]"
     ]
    },
    {
     "name": "stdout",
     "output_type": "stream",
     "text": [
      "Drop_Ratio: 0.698\n",
      "Drop_Ratio: 0.977\n"
     ]
    },
    {
     "ename": "KeyboardInterrupt",
     "evalue": "",
     "output_type": "error",
     "traceback": [
      "\u001b[0;31m---------------------------------------------------------------------------\u001b[0m",
      "\u001b[0;31mUnboundLocalError\u001b[0m                         Traceback (most recent call last)",
      "\u001b[0;32m<ipython-input-2-b8b0dcdc7060>\u001b[0m in \u001b[0;36mmerge_files\u001b[0;34m(path, form)\u001b[0m\n\u001b[1;32m     81\u001b[0m         bkgd_data = list(tqdm(executor.map(process_df, args), total=len(files), \n\u001b[0;32m---> 82\u001b[0;31m                               desc=\"Processing samples\"))\n\u001b[0m\u001b[1;32m     83\u001b[0m \u001b[0;34m\u001b[0m\u001b[0m\n",
      "\u001b[0;32m~/anaconda3/lib/python3.7/site-packages/tqdm/std.py\u001b[0m in \u001b[0;36m__iter__\u001b[0;34m(self)\u001b[0m\n\u001b[1;32m   1106\u001b[0m \u001b[0;34m\u001b[0m\u001b[0m\n\u001b[0;32m-> 1107\u001b[0;31m         \u001b[0;32mfor\u001b[0m \u001b[0mobj\u001b[0m \u001b[0;32min\u001b[0m \u001b[0miterable\u001b[0m\u001b[0;34m:\u001b[0m\u001b[0;34m\u001b[0m\u001b[0;34m\u001b[0m\u001b[0m\n\u001b[0m\u001b[1;32m   1108\u001b[0m             \u001b[0;32myield\u001b[0m \u001b[0mobj\u001b[0m\u001b[0;34m\u001b[0m\u001b[0;34m\u001b[0m\u001b[0m\n",
      "\u001b[0;32m~/anaconda3/lib/python3.7/concurrent/futures/_base.py\u001b[0m in \u001b[0;36mresult_iterator\u001b[0;34m()\u001b[0m\n\u001b[1;32m    597\u001b[0m                     \u001b[0;32mif\u001b[0m \u001b[0mtimeout\u001b[0m \u001b[0;32mis\u001b[0m \u001b[0;32mNone\u001b[0m\u001b[0;34m:\u001b[0m\u001b[0;34m\u001b[0m\u001b[0;34m\u001b[0m\u001b[0m\n\u001b[0;32m--> 598\u001b[0;31m                         \u001b[0;32myield\u001b[0m \u001b[0mfs\u001b[0m\u001b[0;34m.\u001b[0m\u001b[0mpop\u001b[0m\u001b[0;34m(\u001b[0m\u001b[0;34m)\u001b[0m\u001b[0;34m.\u001b[0m\u001b[0mresult\u001b[0m\u001b[0;34m(\u001b[0m\u001b[0;34m)\u001b[0m\u001b[0;34m\u001b[0m\u001b[0;34m\u001b[0m\u001b[0m\n\u001b[0m\u001b[1;32m    599\u001b[0m                     \u001b[0;32melse\u001b[0m\u001b[0;34m:\u001b[0m\u001b[0;34m\u001b[0m\u001b[0;34m\u001b[0m\u001b[0m\n",
      "\u001b[0;32m~/anaconda3/lib/python3.7/concurrent/futures/_base.py\u001b[0m in \u001b[0;36mresult\u001b[0;34m(self, timeout)\u001b[0m\n\u001b[1;32m    434\u001b[0m             \u001b[0;32melif\u001b[0m \u001b[0mself\u001b[0m\u001b[0;34m.\u001b[0m\u001b[0m_state\u001b[0m \u001b[0;34m==\u001b[0m \u001b[0mFINISHED\u001b[0m\u001b[0;34m:\u001b[0m\u001b[0;34m\u001b[0m\u001b[0;34m\u001b[0m\u001b[0m\n\u001b[0;32m--> 435\u001b[0;31m                 \u001b[0;32mreturn\u001b[0m \u001b[0mself\u001b[0m\u001b[0;34m.\u001b[0m\u001b[0m__get_result\u001b[0m\u001b[0;34m(\u001b[0m\u001b[0;34m)\u001b[0m\u001b[0;34m\u001b[0m\u001b[0;34m\u001b[0m\u001b[0m\n\u001b[0m\u001b[1;32m    436\u001b[0m             \u001b[0;32melse\u001b[0m\u001b[0;34m:\u001b[0m\u001b[0;34m\u001b[0m\u001b[0;34m\u001b[0m\u001b[0m\n",
      "\u001b[0;32m~/anaconda3/lib/python3.7/concurrent/futures/_base.py\u001b[0m in \u001b[0;36m__get_result\u001b[0;34m(self)\u001b[0m\n\u001b[1;32m    383\u001b[0m         \u001b[0;32mif\u001b[0m \u001b[0mself\u001b[0m\u001b[0;34m.\u001b[0m\u001b[0m_exception\u001b[0m\u001b[0;34m:\u001b[0m\u001b[0;34m\u001b[0m\u001b[0;34m\u001b[0m\u001b[0m\n\u001b[0;32m--> 384\u001b[0;31m             \u001b[0;32mraise\u001b[0m \u001b[0mself\u001b[0m\u001b[0;34m.\u001b[0m\u001b[0m_exception\u001b[0m\u001b[0;34m\u001b[0m\u001b[0;34m\u001b[0m\u001b[0m\n\u001b[0m\u001b[1;32m    385\u001b[0m         \u001b[0;32melse\u001b[0m\u001b[0;34m:\u001b[0m\u001b[0;34m\u001b[0m\u001b[0;34m\u001b[0m\u001b[0m\n",
      "\u001b[0;32m~/anaconda3/lib/python3.7/concurrent/futures/thread.py\u001b[0m in \u001b[0;36mrun\u001b[0;34m(self)\u001b[0m\n\u001b[1;32m     56\u001b[0m         \u001b[0;32mtry\u001b[0m\u001b[0;34m:\u001b[0m\u001b[0;34m\u001b[0m\u001b[0;34m\u001b[0m\u001b[0m\n\u001b[0;32m---> 57\u001b[0;31m             \u001b[0mresult\u001b[0m \u001b[0;34m=\u001b[0m \u001b[0mself\u001b[0m\u001b[0;34m.\u001b[0m\u001b[0mfn\u001b[0m\u001b[0;34m(\u001b[0m\u001b[0;34m*\u001b[0m\u001b[0mself\u001b[0m\u001b[0;34m.\u001b[0m\u001b[0margs\u001b[0m\u001b[0;34m,\u001b[0m \u001b[0;34m**\u001b[0m\u001b[0mself\u001b[0m\u001b[0;34m.\u001b[0m\u001b[0mkwargs\u001b[0m\u001b[0;34m)\u001b[0m\u001b[0;34m\u001b[0m\u001b[0;34m\u001b[0m\u001b[0m\n\u001b[0m\u001b[1;32m     58\u001b[0m         \u001b[0;32mexcept\u001b[0m \u001b[0mBaseException\u001b[0m \u001b[0;32mas\u001b[0m \u001b[0mexc\u001b[0m\u001b[0;34m:\u001b[0m\u001b[0;34m\u001b[0m\u001b[0;34m\u001b[0m\u001b[0m\n",
      "\u001b[0;32m<ipython-input-2-b8b0dcdc7060>\u001b[0m in \u001b[0;36mprocess_df\u001b[0;34m(args)\u001b[0m\n\u001b[1;32m     57\u001b[0m     \u001b[0;31m# Remover colunas de dados extra\u001b[0m\u001b[0;34m\u001b[0m\u001b[0;34m\u001b[0m\u001b[0;34m\u001b[0m\u001b[0m\n\u001b[0;32m---> 58\u001b[0;31m     \u001b[0mdel_cols\u001b[0m \u001b[0;34m=\u001b[0m \u001b[0;34m[\u001b[0m\u001b[0mcol\u001b[0m \u001b[0;32mfor\u001b[0m \u001b[0mcol\u001b[0m \u001b[0;32min\u001b[0m \u001b[0mdel_cols\u001b[0m \u001b[0;32mif\u001b[0m \u001b[0mcol\u001b[0m \u001b[0;32min\u001b[0m \u001b[0mdf\u001b[0m\u001b[0;34m]\u001b[0m\u001b[0;34m\u001b[0m\u001b[0;34m\u001b[0m\u001b[0m\n\u001b[0m\u001b[1;32m     59\u001b[0m     \u001b[0mdf\u001b[0m\u001b[0;34m.\u001b[0m\u001b[0mdrop\u001b[0m\u001b[0;34m(\u001b[0m\u001b[0mdel_cols\u001b[0m\u001b[0;34m,\u001b[0m \u001b[0maxis\u001b[0m\u001b[0;34m=\u001b[0m\u001b[0;36m1\u001b[0m\u001b[0;34m,\u001b[0m \u001b[0minplace\u001b[0m\u001b[0;34m=\u001b[0m\u001b[0;32mTrue\u001b[0m\u001b[0;34m)\u001b[0m\u001b[0;34m\u001b[0m\u001b[0;34m\u001b[0m\u001b[0m\n",
      "\u001b[0;31mUnboundLocalError\u001b[0m: local variable 'del_cols' referenced before assignment",
      "\nDuring handling of the above exception, another exception occurred:\n",
      "\u001b[0;31mKeyboardInterrupt\u001b[0m                         Traceback (most recent call last)",
      "\u001b[0;32m<ipython-input-3-0a055e44894c>\u001b[0m in \u001b[0;36m<module>\u001b[0;34m\u001b[0m\n\u001b[1;32m      3\u001b[0m \u001b[0;34m\u001b[0m\u001b[0m\n\u001b[1;32m      4\u001b[0m \u001b[0;31m# Criar o dataframe de background\u001b[0m\u001b[0;34m\u001b[0m\u001b[0;34m\u001b[0m\u001b[0;34m\u001b[0m\u001b[0m\n\u001b[0;32m----> 5\u001b[0;31m \u001b[0mbkgd_data\u001b[0m \u001b[0;34m=\u001b[0m \u001b[0mmerge_files\u001b[0m\u001b[0;34m(\u001b[0m\u001b[0mdata_path\u001b[0m\u001b[0;34m,\u001b[0m \u001b[0;34m\"csv\"\u001b[0m\u001b[0;34m)\u001b[0m\u001b[0;34m\u001b[0m\u001b[0;34m\u001b[0m\u001b[0m\n\u001b[0m\u001b[1;32m      6\u001b[0m \u001b[0mbkgd_data\u001b[0m\u001b[0;34m\u001b[0m\u001b[0;34m\u001b[0m\u001b[0m\n",
      "\u001b[0;32m<ipython-input-2-b8b0dcdc7060>\u001b[0m in \u001b[0;36mmerge_files\u001b[0;34m(path, form)\u001b[0m\n\u001b[1;32m     80\u001b[0m         \u001b[0margs\u001b[0m \u001b[0;34m=\u001b[0m \u001b[0;34m[\u001b[0m\u001b[0;34m[\u001b[0m\u001b[0mfile\u001b[0m\u001b[0;34m,\u001b[0m \u001b[0mform\u001b[0m\u001b[0;34m]\u001b[0m \u001b[0;32mfor\u001b[0m \u001b[0mfile\u001b[0m \u001b[0;32min\u001b[0m \u001b[0mfiles\u001b[0m\u001b[0;34m]\u001b[0m\u001b[0;34m\u001b[0m\u001b[0;34m\u001b[0m\u001b[0m\n\u001b[1;32m     81\u001b[0m         bkgd_data = list(tqdm(executor.map(process_df, args), total=len(files), \n\u001b[0;32m---> 82\u001b[0;31m                               desc=\"Processing samples\"))\n\u001b[0m\u001b[1;32m     83\u001b[0m \u001b[0;34m\u001b[0m\u001b[0m\n\u001b[1;32m     84\u001b[0m \u001b[0;34m\u001b[0m\u001b[0m\n",
      "\u001b[0;32m~/anaconda3/lib/python3.7/concurrent/futures/_base.py\u001b[0m in \u001b[0;36m__exit__\u001b[0;34m(self, exc_type, exc_val, exc_tb)\u001b[0m\n\u001b[1;32m    621\u001b[0m \u001b[0;34m\u001b[0m\u001b[0m\n\u001b[1;32m    622\u001b[0m     \u001b[0;32mdef\u001b[0m \u001b[0m__exit__\u001b[0m\u001b[0;34m(\u001b[0m\u001b[0mself\u001b[0m\u001b[0;34m,\u001b[0m \u001b[0mexc_type\u001b[0m\u001b[0;34m,\u001b[0m \u001b[0mexc_val\u001b[0m\u001b[0;34m,\u001b[0m \u001b[0mexc_tb\u001b[0m\u001b[0;34m)\u001b[0m\u001b[0;34m:\u001b[0m\u001b[0;34m\u001b[0m\u001b[0;34m\u001b[0m\u001b[0m\n\u001b[0;32m--> 623\u001b[0;31m         \u001b[0mself\u001b[0m\u001b[0;34m.\u001b[0m\u001b[0mshutdown\u001b[0m\u001b[0;34m(\u001b[0m\u001b[0mwait\u001b[0m\u001b[0;34m=\u001b[0m\u001b[0;32mTrue\u001b[0m\u001b[0;34m)\u001b[0m\u001b[0;34m\u001b[0m\u001b[0;34m\u001b[0m\u001b[0m\n\u001b[0m\u001b[1;32m    624\u001b[0m         \u001b[0;32mreturn\u001b[0m \u001b[0;32mFalse\u001b[0m\u001b[0;34m\u001b[0m\u001b[0;34m\u001b[0m\u001b[0m\n\u001b[1;32m    625\u001b[0m \u001b[0;34m\u001b[0m\u001b[0m\n",
      "\u001b[0;32m~/anaconda3/lib/python3.7/concurrent/futures/thread.py\u001b[0m in \u001b[0;36mshutdown\u001b[0;34m(self, wait)\u001b[0m\n\u001b[1;32m    214\u001b[0m         \u001b[0;32mif\u001b[0m \u001b[0mwait\u001b[0m\u001b[0;34m:\u001b[0m\u001b[0;34m\u001b[0m\u001b[0;34m\u001b[0m\u001b[0m\n\u001b[1;32m    215\u001b[0m             \u001b[0;32mfor\u001b[0m \u001b[0mt\u001b[0m \u001b[0;32min\u001b[0m \u001b[0mself\u001b[0m\u001b[0;34m.\u001b[0m\u001b[0m_threads\u001b[0m\u001b[0;34m:\u001b[0m\u001b[0;34m\u001b[0m\u001b[0;34m\u001b[0m\u001b[0m\n\u001b[0;32m--> 216\u001b[0;31m                 \u001b[0mt\u001b[0m\u001b[0;34m.\u001b[0m\u001b[0mjoin\u001b[0m\u001b[0;34m(\u001b[0m\u001b[0;34m)\u001b[0m\u001b[0;34m\u001b[0m\u001b[0;34m\u001b[0m\u001b[0m\n\u001b[0m\u001b[1;32m    217\u001b[0m     \u001b[0mshutdown\u001b[0m\u001b[0;34m.\u001b[0m\u001b[0m__doc__\u001b[0m \u001b[0;34m=\u001b[0m \u001b[0m_base\u001b[0m\u001b[0;34m.\u001b[0m\u001b[0mExecutor\u001b[0m\u001b[0;34m.\u001b[0m\u001b[0mshutdown\u001b[0m\u001b[0;34m.\u001b[0m\u001b[0m__doc__\u001b[0m\u001b[0;34m\u001b[0m\u001b[0;34m\u001b[0m\u001b[0m\n",
      "\u001b[0;32m~/anaconda3/lib/python3.7/threading.py\u001b[0m in \u001b[0;36mjoin\u001b[0;34m(self, timeout)\u001b[0m\n\u001b[1;32m   1042\u001b[0m \u001b[0;34m\u001b[0m\u001b[0m\n\u001b[1;32m   1043\u001b[0m         \u001b[0;32mif\u001b[0m \u001b[0mtimeout\u001b[0m \u001b[0;32mis\u001b[0m \u001b[0;32mNone\u001b[0m\u001b[0;34m:\u001b[0m\u001b[0;34m\u001b[0m\u001b[0;34m\u001b[0m\u001b[0m\n\u001b[0;32m-> 1044\u001b[0;31m             \u001b[0mself\u001b[0m\u001b[0;34m.\u001b[0m\u001b[0m_wait_for_tstate_lock\u001b[0m\u001b[0;34m(\u001b[0m\u001b[0;34m)\u001b[0m\u001b[0;34m\u001b[0m\u001b[0;34m\u001b[0m\u001b[0m\n\u001b[0m\u001b[1;32m   1045\u001b[0m         \u001b[0;32melse\u001b[0m\u001b[0;34m:\u001b[0m\u001b[0;34m\u001b[0m\u001b[0;34m\u001b[0m\u001b[0m\n\u001b[1;32m   1046\u001b[0m             \u001b[0;31m# the behavior of a negative timeout isn't documented, but\u001b[0m\u001b[0;34m\u001b[0m\u001b[0;34m\u001b[0m\u001b[0;34m\u001b[0m\u001b[0m\n",
      "\u001b[0;32m~/anaconda3/lib/python3.7/threading.py\u001b[0m in \u001b[0;36m_wait_for_tstate_lock\u001b[0;34m(self, block, timeout)\u001b[0m\n\u001b[1;32m   1058\u001b[0m         \u001b[0;32mif\u001b[0m \u001b[0mlock\u001b[0m \u001b[0;32mis\u001b[0m \u001b[0;32mNone\u001b[0m\u001b[0;34m:\u001b[0m  \u001b[0;31m# already determined that the C code is done\u001b[0m\u001b[0;34m\u001b[0m\u001b[0;34m\u001b[0m\u001b[0m\n\u001b[1;32m   1059\u001b[0m             \u001b[0;32massert\u001b[0m \u001b[0mself\u001b[0m\u001b[0;34m.\u001b[0m\u001b[0m_is_stopped\u001b[0m\u001b[0;34m\u001b[0m\u001b[0;34m\u001b[0m\u001b[0m\n\u001b[0;32m-> 1060\u001b[0;31m         \u001b[0;32melif\u001b[0m \u001b[0mlock\u001b[0m\u001b[0;34m.\u001b[0m\u001b[0macquire\u001b[0m\u001b[0;34m(\u001b[0m\u001b[0mblock\u001b[0m\u001b[0;34m,\u001b[0m \u001b[0mtimeout\u001b[0m\u001b[0;34m)\u001b[0m\u001b[0;34m:\u001b[0m\u001b[0;34m\u001b[0m\u001b[0;34m\u001b[0m\u001b[0m\n\u001b[0m\u001b[1;32m   1061\u001b[0m             \u001b[0mlock\u001b[0m\u001b[0;34m.\u001b[0m\u001b[0mrelease\u001b[0m\u001b[0;34m(\u001b[0m\u001b[0;34m)\u001b[0m\u001b[0;34m\u001b[0m\u001b[0;34m\u001b[0m\u001b[0m\n\u001b[1;32m   1062\u001b[0m             \u001b[0mself\u001b[0m\u001b[0;34m.\u001b[0m\u001b[0m_stop\u001b[0m\u001b[0;34m(\u001b[0m\u001b[0;34m)\u001b[0m\u001b[0;34m\u001b[0m\u001b[0;34m\u001b[0m\u001b[0m\n",
      "\u001b[0;31mKeyboardInterrupt\u001b[0m: "
     ]
    }
   ],
   "source": [
    "# Variáveis de controlo da criação do dataframe de background\n",
    "data_path = \"Data/dileptonic/\"\n",
    "\n",
    "# Criar o dataframe de background\n",
    "bkgd_data = merge_files(data_path, \"csv\")\n",
    "bkgd_data"
   ]
  },
  {
   "cell_type": "code",
   "execution_count": null,
   "metadata": {},
   "outputs": [],
   "source": [
    "# Variáveis de controlo da criação do dataframe de sinal\n",
    "data_path = \"Data/FCNC/\"\n",
    "\n",
    "# Criar o dataframe de sinal\n",
    "fcnc_data = merge_files(data_path, \"h5\", del_cols, btag_cols, lepton_cols)\n",
    "fcnc_data"
   ]
  },
  {
   "cell_type": "code",
   "execution_count": null,
   "metadata": {},
   "outputs": [],
   "source": [
    "# Guardar dados\n",
    "bkgd_data.to_hdf(\"Data/Processed_Data.h5\", key=\"bkgd\")\n",
    "fcnc_data.to_hdf(\"Data/Processed_Data.h5\", key=\"fcnc\")"
   ]
  },
  {
   "cell_type": "code",
   "execution_count": null,
   "metadata": {},
   "outputs": [],
   "source": [
    "print([col for col in fcnc_data if \"Tau\" in col])"
   ]
  },
  {
   "cell_type": "markdown",
   "metadata": {},
   "source": [
    "## Plots"
   ]
  },
  {
   "cell_type": "markdown",
   "metadata": {},
   "source": [
    "Nota: Os plots estão muito diferentes dos obtidos com apenas um csv para bkgd.\n",
    "Não é necessária nenhuma normalização dos gen_weights nos plot aos dados?"
   ]
  },
  {
   "cell_type": "code",
   "execution_count": null,
   "metadata": {},
   "outputs": [],
   "source": [
    "# Importar dados pré-processados\n",
    "bkgd_data = pd.read_hdf(\"Data/Processed_Data.h5\", key=\"bkgd\")\n",
    "fcnc_data = pd.read_hdf(\"Data/Processed_Data.h5\", key=\"fcnc\")"
   ]
  },
  {
   "cell_type": "code",
   "execution_count": null,
   "metadata": {},
   "outputs": [],
   "source": [
    "# Variáveis de ajuste dos plots\n",
    "num_cols, bins = 5, 50\n",
    "\n",
    "# Criar os plots\n",
    "num_rows = int(np.ceil((len(list(fcnc_data.columns)) - 1) / num_cols))\n",
    "fig, axs = plt.subplots(num_rows, num_cols, figsize=(40, 60))\n",
    "\n",
    "# Iterar e plotar cada coluna de dados\n",
    "for i, column in enumerate(fcnc_data.columns):\n",
    "    if fcnc_data.columns[i] != \"gen_weights\":\n",
    "        # Definir a range do histograma\n",
    "        hist_min = min(fcnc_data[column].min(), bkgd_data[column].min())\n",
    "        hist_max = max(fcnc_data[column].max(), bkgd_data[column].max())\n",
    "        hist_range = (hist_min, hist_max)\n",
    "        \n",
    "        # Obter os dados do histograma\n",
    "        fcnc_hist, fcnc_bins = np.histogram(fcnc_data[column],\n",
    "                                            bins=bins,\n",
    "                                            range=hist_range,\n",
    "                                            weights=fcnc_data[\"gen_weights\"])\n",
    "        bkgd_hist, bkgd_bins = np.histogram(bkgd_data[column],\n",
    "                                            bins=bins,\n",
    "                                            range=hist_range,\n",
    "                                            weights=bkgd_data[\"gen_weights\"])\n",
    "\n",
    "        # Dar plot aos dados\n",
    "        row, column = int(i/num_cols), i%num_cols\n",
    "        axs[row, column].set_title(fcnc_data.columns[i])\n",
    "        axs[row, column].hist(fcnc_hist, bins=fcnc_bins, \n",
    "                              label=\"fcnc\", alpha=0.8)\n",
    "        axs[row, column].hist(bkgd_hist, bins=bkgd_bins, \n",
    "                              label=\"bkgd\", alpha=0.8)\n",
    "        axs[row, column].set_yscale(\"log\")\n",
    "        axs[row, column].legend()\n",
    "    \n",
    "plt.show()"
   ]
  },
  {
   "cell_type": "markdown",
   "metadata": {},
   "source": [
    "Significado dos gráficos:\n",
    "- BTag: Ocorrência ou não de jatos a partir de muões b\n",
    "- Missing: Momento de partículas não detetadas que falta para se verificar a conservação de momento na colisão\n",
    "- ScalarHT: Momento total (norma) missing\n",
    "- [blank]_multi: quantos [blank] existem, os plots [blank]1, [blank]2, etc descrevem cada um\n",
    "- Picos em zero devido esses fenómenos não serem detetados nos respetivos eventos"
   ]
  },
  {
   "cell_type": "code",
   "execution_count": null,
   "metadata": {},
   "outputs": [],
   "source": []
  }
 ],
 "metadata": {
  "kernelspec": {
   "display_name": "Python 3",
   "language": "python",
   "name": "python3"
  },
  "language_info": {
   "codemirror_mode": {
    "name": "ipython",
    "version": 3
   },
   "file_extension": ".py",
   "mimetype": "text/x-python",
   "name": "python",
   "nbconvert_exporter": "python",
   "pygments_lexer": "ipython3",
   "version": "3.7.6"
  }
 },
 "nbformat": 4,
 "nbformat_minor": 4
}
