{
 "cells": [
  {
   "cell_type": "code",
   "execution_count": null,
   "metadata": {},
   "outputs": [],
   "source": [
    "%config Inline_Backend.figure_format = 'svg'\n",
    "import matplotlib.pyplot as plt\n",
    "from tqdm import tqdm\n",
    "import pandas as pd\n",
    "import numpy as np\n",
    "import glob"
   ]
  },
  {
   "cell_type": "markdown",
   "metadata": {},
   "source": [
    "## Funções auxiliares de manipulação de dados"
   ]
  },
  {
   "cell_type": "code",
   "execution_count": null,
   "metadata": {},
   "outputs": [],
   "source": [
    "def merge_csvs(path=\"\", del_cols=[]):\n",
    "    \"\"\"\n",
    "    Coloca todos os csvs de uma diretoria num único dataframe\n",
    "    \n",
    "    path -> string: diretoria dos dados\n",
    "    del_cols -> [string]: lista de colunas a serem eliminadas dos csvs\n",
    "    \"\"\"\n",
    "    \n",
    "    bkgd_data, files = [], glob.glob(path + \"*.csv\")\n",
    "    for file in tqdm(files, total=len(files), desc=\"Generating Dataframes\"):\n",
    "        bkgd_data.append(pd.read_csv(file, header=0))\n",
    "          \n",
    "    for csv in tqdm(bkgd_data, total=len(bkgd_data), desc=\"Calculating gen_weights\"):\n",
    "        # Calcular gen_weights\n",
    "        csv[\"gen_xsec\"] = csv[\"gen_xsec\"].mean()/csv.shape[0]\n",
    "        csv.rename(columns={\"gen_xsec\":\"gen_weights\"}, inplace=True)\n",
    "        \n",
    "        # Remover colunas de dados extra\n",
    "        for col in del_cols:\n",
    "            if col in list(csv.columns):\n",
    "                csv.drop(col, axis=1, inplace=True)\n",
    "             \n",
    "    # Normalização dos pesos\n",
    "    csv[\"gen_weights\"] = csv[\"gen_weights\"]/csv[\"gen_weights\"].sum()\n",
    "                \n",
    "    bkgd_data = pd.concat(bkgd_data)\n",
    "    \n",
    "    return bkgd_data"
   ]
  },
  {
   "cell_type": "markdown",
   "metadata": {},
   "source": [
    "## Gerar os dataframes e np_arrays dos dados"
   ]
  },
  {
   "cell_type": "code",
   "execution_count": null,
   "metadata": {},
   "outputs": [],
   "source": [
    "# Create dataframe\n",
    "data_path = \"Data/dileptonic/\"\n",
    "del_cols = [\"MissingET_Eta\", \"gen_decay1\", \"gen_decay2\", \"gen_sample\", \"gen_filter\", \"gen_decay_filter\"]\n",
    "bkgd_data = merge_csvs(data_path, del_cols)"
   ]
  },
  {
   "cell_type": "code",
   "execution_count": null,
   "metadata": {},
   "outputs": [],
   "source": [
    "bkgd_data"
   ]
  },
  {
   "cell_type": "code",
   "execution_count": null,
   "metadata": {},
   "outputs": [],
   "source": [
    "bkgd_data.to_hdf(\"Bkdg_Data.h5\")"
   ]
  },
  {
   "cell_type": "markdown",
   "metadata": {},
   "source": [
    "## Plots"
   ]
  },
  {
   "cell_type": "code",
   "execution_count": null,
   "metadata": {},
   "outputs": [],
   "source": [
    "bkgd_plot = "
   ]
  },
  {
   "cell_type": "code",
   "execution_count": null,
   "metadata": {},
   "outputs": [],
   "source": [
    "# Criar os 69 plots\n",
    "fig, axs = plt.subplots(14, 5, figsize=(40, 60))\n",
    "\n",
    "for i in range(len(fcnc_data.columns)):\n",
    "    events, bkgd = fcnc_np[:, i], bkgd_np[:, i]\n",
    "    row, column = int(i/5), i%5\n",
    "    \n",
    "    axs[row, column].set_title(fcnc_data.columns[i])\n",
    "    axs[row, column].hist(events, label='events', alpha=0.8, bins=50)\n",
    "    axs[row, column].hist(bkgd, label='bkgd', alpha=0.8, bins=50)\n",
    "    axs[row, column].set_yscale('log')\n",
    "    axs[row, column].legend()\n",
    "    \n",
    "plt.show()"
   ]
  },
  {
   "cell_type": "markdown",
   "metadata": {},
   "source": [
    "Significado dos gráficos:\n",
    "- BTag: Ocorrência ou não de jatos a partir de muões b\n",
    "- Missing: Momento de partículas não detetadas que falta para se verificar a conservação de momento na colisão\n",
    "- ScalarHT: Momento total (norma) missing\n",
    "- Fat_jet_multi: quantos fat jets existem, os plots fat_jets1, 2, etc descrevem cada um"
   ]
  },
  {
   "cell_type": "markdown",
   "metadata": {},
   "source": [
    "Questões:\n",
    "- Pico em zero distinto no momento transversal dos fat_jets\n",
    "- Porque é que o Jet Multi tem frações?\n",
    "- Fat_Jets têm um Eta pequeno, ocorrem maioritariamente para theta = 90º? Se sim, porquê? \n",
    "- Porquê os picos em phi=0? Não deveriam todas as direções transversais ser obter dados aproximadamente iguais?\n",
    "- Estes dois picos parecem estar associados, no sentido de haver uma direção transversal com muito 'movimento', porquê?"
   ]
  },
  {
   "cell_type": "markdown",
   "metadata": {},
   "source": [
    "# Obter momentos em x e y"
   ]
  },
  {
   "cell_type": "code",
   "execution_count": null,
   "metadata": {},
   "outputs": [],
   "source": [
    "moment_index_event, moment_index_bkgd = fcnc_data.columns.get_loc(\"MissingET_MET\"), bkgd_data.columns.get_loc(\"MissingET_MET\")\n",
    "phi_index_event, phi_index_bkgd = fcnc_data.columns.get_loc(\"MissingET_Phi\"), bkgd_data.columns.get_loc(\"MissingET_Phi\")\n",
    "\n",
    "phi_event, MET_event = fcnc_np[:, phi_index_event], fcnc_np[:, moment_index_event]\n",
    "phi_bkgd, MET_bkgd = bkgd_np[:, phi_index_event], bkgd_np[:, moment_index_event]"
   ]
  },
  {
   "cell_type": "code",
   "execution_count": null,
   "metadata": {},
   "outputs": [],
   "source": [
    "import matplotlib as mpl\n",
    "mpl.rcParams['agg.path.chunksize'] = 100000\n",
    "\n",
    "ax = plt.subplot(111, projection='polar')\n",
    "ax.set_title(\"Momento transverso em falta\", va='bottom')\n",
    "ax.plot(phi_event, MET_event, label='event')\n",
    "ax.plot(phi_bkgd, MET_bkgd, label='bkgd')\n",
    "ax.legend()\n",
    "\n",
    "plt.show()"
   ]
  },
  {
   "cell_type": "code",
   "execution_count": null,
   "metadata": {},
   "outputs": [],
   "source": [
    "#Obter momentos em x e y\n",
    "moment_x_event, moment_y_event = MET_event * np.cos(phi_event), MET_event * np.sin(phi_event)\n",
    "moment_x_bkgd, moment_y_bkgd = MET_bkgd * np.cos(phi_bkgd), MET_bkgd * np.sin(phi_bkgd)"
   ]
  },
  {
   "cell_type": "code",
   "execution_count": null,
   "metadata": {},
   "outputs": [],
   "source": [
    "fig, (ax1, ax2) = plt.subplots(1, 2, figsize=(20, 5))\n",
    "\n",
    "ax1.set_title(\"Distribuição de momento em falta em x\")\n",
    "ax1.set_yscale('log')\n",
    "ax1.hist(moment_x_event, label='eventos', bins=50)\n",
    "ax1.hist(moment_x_bkgd, label='bkgd', bins=50)\n",
    "ax1.legend()\n",
    "\n",
    "ax2.set_title(\"Distribuição de momento em falta em y\")\n",
    "ax2.set_yscale('log')\n",
    "ax2.hist(moment_y_event, label='eventos', bins=50)\n",
    "ax2.hist(moment_y_bkgd, label='bkgd', bins=50)\n",
    "ax2.legend()\n",
    "\n",
    "plt.show()"
   ]
  },
  {
   "cell_type": "code",
   "execution_count": null,
   "metadata": {},
   "outputs": [],
   "source": []
  }
 ],
 "metadata": {
  "kernelspec": {
   "display_name": "Python 3",
   "language": "python",
   "name": "python3"
  },
  "language_info": {
   "codemirror_mode": {
    "name": "ipython",
    "version": 3
   },
   "file_extension": ".py",
   "mimetype": "text/x-python",
   "name": "python",
   "nbconvert_exporter": "python",
   "pygments_lexer": "ipython3",
   "version": "3.7.6"
  }
 },
 "nbformat": 4,
 "nbformat_minor": 4
}
