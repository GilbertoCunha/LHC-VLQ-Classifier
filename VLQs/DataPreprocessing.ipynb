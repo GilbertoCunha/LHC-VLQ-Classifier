{
 "cells": [
  {
   "cell_type": "code",
   "execution_count": 1,
   "metadata": {},
   "outputs": [],
   "source": [
    "import numpy as np\n",
    "import pandas as pd\n",
    "from glob import glob\n",
    "from tqdm import tqdm\n",
    "import matplotlib.pyplot as plt"
   ]
  },
  {
   "cell_type": "markdown",
   "metadata": {},
   "source": [
    "# Data Pre-Processing functions"
   ]
  },
  {
   "cell_type": "markdown",
   "metadata": {},
   "source": [
    "NOTE TO SELF: Use boolean masking to cut dataframes whenever possible -> much faster than pd.drop"
   ]
  },
  {
   "cell_type": "code",
   "execution_count": 7,
   "metadata": {},
   "outputs": [],
   "source": [
    "def process_data(data_path, del_cols=[], cuts=True):\n",
    "    \"\"\"\n",
    "    This functions reads and pre-processes all the data in the chosen data_path with pandas\n",
    "    \n",
    "    data_path -> string: the path of the data to be acquired and pre-processed\\n\n",
    "    del_cols -> [string]: all columns to be deleted from the dataframe\\n\n",
    "    btag_cols -> [string]: list of columns referring to btag count\\n\n",
    "    lepton_cols -> [string]: list of columns referring to lepton count\\n\n",
    "    cut -> bool: whether or not cuts are to be applied to the data\n",
    "    \n",
    "    return -> pandas dataframe: pre-processed data\n",
    "    \"\"\"\n",
    "    \n",
    "    # Initializing variables\n",
    "    data = []\n",
    "    total_drop, total_len = 0, 0\n",
    "    files = glob(data_path + \"/*.csv\")\n",
    "    files += glob(data_path + \"/*.h5\")\n",
    "    \n",
    "    # Collect all data from path\n",
    "    for file in tqdm(files, total=len(files), desc=\"Preprocessing Data\"):\n",
    "        # Read sample\n",
    "        if file.endswith(\".csv\"): df = pd.read_csv(file)\n",
    "        elif file.endswith(\".h5\"): df = pd.read_hdf(file)\n",
    "        else: raise ValueError(\"Unrecognized file format\")\n",
    "            \n",
    "        # Sort indices\n",
    "        df.sort_index(inplace=True)\n",
    "        \n",
    "        # Apply cuts\n",
    "        sample = file.split(\"/\")[-1].split(\".\")[0]\n",
    "        if cuts:\n",
    "            len_inc = df.shape[0]\n",
    "            total_len += len_inc\n",
    "            df = df[df[\"Electron_Multi\"] + df[\"Muon_Multi\"] > 1] # At least 2 leptons\n",
    "            df = df[df[\"FatJet_Multi\"] > 0] # At least 1 FatJet\n",
    "            tqdm.write(f\" Sample: {sample} | Original Size: {len_inc} | Drop_Ratio: {(len_inc - df.shape[0])/len_inc:.3f}\")\n",
    "            total_drop += len_inc - df.shape[0]\n",
    "        \n",
    "        # Delete columns\n",
    "        df.drop([col for col in del_cols if col in df], axis=1, inplace=True)\n",
    "        \n",
    "        # Calculate gen_weights\n",
    "        df[\"gen_xsec\"] = df[\"gen_xsec\"].mean() / df.shape[0]\n",
    "        df.rename(columns={\"gen_xsec\":\"gen_weights\"}, inplace=True)\n",
    "        \n",
    "        # Add sample and label columns\n",
    "        if file.split(\"/\")[-2] == \"dileptonic\": df[\"Label\"] = 0\n",
    "        elif file.split(\"/\")[-2] == \"sm_gluon_vlq\": df[\"Label\"] = 1\n",
    "        else: raise ValueError(\"Unrecognized data folder\")\n",
    "        df[\"Sample\"] = sample\n",
    "        \n",
    "        data.append(df)\n",
    "        \n",
    "    # Concatenate data\n",
    "    if len(data) > 1: data = pd.concat(data)\n",
    "    else: data = data[0]\n",
    "        \n",
    "    if cuts: print(f\"Total Drop Ratio: {total_drop/total_len:.3f}\")\n",
    "        \n",
    "    return data"
   ]
  },
  {
   "cell_type": "markdown",
   "metadata": {},
   "source": [
    "# Cut Testing"
   ]
  },
  {
   "cell_type": "code",
   "execution_count": 4,
   "metadata": {
    "collapsed": false,
    "jupyter": {
     "outputs_hidden": false
    },
    "pycharm": {
     "name": "#%%\n"
    }
   },
   "outputs": [],
   "source": [
    "# Delete columns list\n",
    "del_cols = [\"gen_decay1\", \"gen_decay2\", \"gen_sample\", \"gen_filter\", \"gen_decay_filter\", \"MissingET_Eta\"]"
   ]
  },
  {
   "cell_type": "code",
   "execution_count": 5,
   "metadata": {},
   "outputs": [
    {
     "name": "stderr",
     "output_type": "stream",
     "text": [
      "Preprocessing Data:   6%|▌         | 1/18 [00:00<00:08,  2.01it/s]"
     ]
    },
    {
     "name": "stdout",
     "output_type": "stream",
     "text": [
      " Sample: ttbarZ_2L | Original Size: 100000 | Drop_Ratio: 0.495\n"
     ]
    },
    {
     "name": "stderr",
     "output_type": "stream",
     "text": [
      "Preprocessing Data:  11%|█         | 2/18 [00:15<01:18,  4.91s/it]"
     ]
    },
    {
     "name": "stdout",
     "output_type": "stream",
     "text": [
      " Sample: Zbj_2L | Original Size: 4000000 | Drop_Ratio: 0.634\n"
     ]
    },
    {
     "name": "stderr",
     "output_type": "stream",
     "text": [
      "Preprocessing Data:  17%|█▋        | 3/18 [00:28<01:47,  7.19s/it]"
     ]
    },
    {
     "name": "stdout",
     "output_type": "stream",
     "text": [
      " Sample: Zbb_2L | Original Size: 4000000 | Drop_Ratio: 0.625\n"
     ]
    },
    {
     "name": "stderr",
     "output_type": "stream",
     "text": [
      "Preprocessing Data:  22%|██▏       | 4/18 [00:42<02:11,  9.37s/it]"
     ]
    },
    {
     "name": "stdout",
     "output_type": "stream",
     "text": [
      " Sample: Zjj_2L | Original Size: 4000000 | Drop_Ratio: 0.713\n"
     ]
    },
    {
     "name": "stderr",
     "output_type": "stream",
     "text": [
      "Preprocessing Data:  28%|██▊       | 5/18 [00:44<01:32,  7.08s/it]"
     ]
    },
    {
     "name": "stdout",
     "output_type": "stream",
     "text": [
      " Sample: ZZ_2L | Original Size: 500000 | Drop_Ratio: 0.635\n"
     ]
    },
    {
     "name": "stderr",
     "output_type": "stream",
     "text": [
      "Preprocessing Data:  33%|███▎      | 6/18 [00:44<01:00,  5.03s/it]"
     ]
    },
    {
     "name": "stdout",
     "output_type": "stream",
     "text": [
      " Sample: ttbarZ_2L_test | Original Size: 50000 | Drop_Ratio: 0.496\n"
     ]
    },
    {
     "name": "stderr",
     "output_type": "stream",
     "text": [
      "Preprocessing Data:  39%|███▉      | 7/18 [00:44<00:39,  3.59s/it]"
     ]
    },
    {
     "name": "stdout",
     "output_type": "stream",
     "text": [
      " Sample: topZj_2L_test | Original Size: 50000 | Drop_Ratio: 0.551\n"
     ]
    },
    {
     "name": "stderr",
     "output_type": "stream",
     "text": [
      "Preprocessing Data:  44%|████▍     | 8/18 [00:45<00:25,  2.59s/it]"
     ]
    },
    {
     "name": "stdout",
     "output_type": "stream",
     "text": [
      " Sample: topWZ_2L | Original Size: 50000 | Drop_Ratio: 0.475\n"
     ]
    },
    {
     "name": "stderr",
     "output_type": "stream",
     "text": [
      "Preprocessing Data:  50%|█████     | 9/18 [00:45<00:16,  1.88s/it]"
     ]
    },
    {
     "name": "stdout",
     "output_type": "stream",
     "text": [
      " Sample: topZj_2L_train | Original Size: 50000 | Drop_Ratio: 0.550\n"
     ]
    },
    {
     "name": "stderr",
     "output_type": "stream",
     "text": [
      "Preprocessing Data:  56%|█████▌    | 10/18 [00:45<00:11,  1.45s/it]"
     ]
    },
    {
     "name": "stdout",
     "output_type": "stream",
     "text": [
      " Sample: ttbarW_2L | Original Size: 100000 | Drop_Ratio: 0.596\n"
     ]
    },
    {
     "name": "stderr",
     "output_type": "stream",
     "text": [
      "Preprocessing Data:  61%|██████    | 11/18 [00:46<00:07,  1.14s/it]"
     ]
    },
    {
     "name": "stdout",
     "output_type": "stream",
     "text": [
      " Sample: topZj_2L | Original Size: 100000 | Drop_Ratio: 0.550\n"
     ]
    },
    {
     "name": "stderr",
     "output_type": "stream",
     "text": [
      "Preprocessing Data:  67%|██████▋   | 12/18 [00:47<00:07,  1.32s/it]"
     ]
    },
    {
     "name": "stdout",
     "output_type": "stream",
     "text": [
      " Sample: WZ_2L | Original Size: 500000 | Drop_Ratio: 0.594\n"
     ]
    },
    {
     "name": "stderr",
     "output_type": "stream",
     "text": [
      "Preprocessing Data:  72%|███████▏  | 13/18 [01:03<00:28,  5.60s/it]"
     ]
    },
    {
     "name": "stdout",
     "output_type": "stream",
     "text": [
      " Sample: ttbarb_2L | Original Size: 3899999 | Drop_Ratio: 0.644\n"
     ]
    },
    {
     "name": "stderr",
     "output_type": "stream",
     "text": [
      "Preprocessing Data:  78%|███████▊  | 14/18 [01:03<00:15,  3.99s/it]"
     ]
    },
    {
     "name": "stdout",
     "output_type": "stream",
     "text": [
      " Sample: ttbarZ_2L_train | Original Size: 50000 | Drop_Ratio: 0.494\n"
     ]
    },
    {
     "name": "stderr",
     "output_type": "stream",
     "text": [
      "Preprocessing Data:  83%|████████▎ | 15/18 [01:05<00:10,  3.44s/it]"
     ]
    },
    {
     "name": "stdout",
     "output_type": "stream",
     "text": [
      " Sample: ttbarH_2L | Original Size: 500000 | Drop_Ratio: 0.675\n"
     ]
    },
    {
     "name": "stderr",
     "output_type": "stream",
     "text": [
      "Preprocessing Data:  89%|████████▉ | 16/18 [01:07<00:05,  2.99s/it]"
     ]
    },
    {
     "name": "stdout",
     "output_type": "stream",
     "text": [
      " Sample: ttbar_2L | Original Size: 500000 | Drop_Ratio: 0.623\n"
     ]
    },
    {
     "name": "stderr",
     "output_type": "stream",
     "text": [
      "Preprocessing Data:  94%|█████████▍| 17/18 [01:24<00:06,  6.99s/it]"
     ]
    },
    {
     "name": "stdout",
     "output_type": "stream",
     "text": [
      " Sample: ttbarj_2L | Original Size: 4000000 | Drop_Ratio: 0.647\n"
     ]
    },
    {
     "name": "stderr",
     "output_type": "stream",
     "text": [
      "Preprocessing Data: 100%|██████████| 18/18 [01:25<00:00,  4.76s/it]\n"
     ]
    },
    {
     "name": "stdout",
     "output_type": "stream",
     "text": [
      " Sample: WW_2L | Original Size: 500000 | Drop_Ratio: 0.674\n",
      "Total Drop Ratio: 0.648\n"
     ]
    }
   ],
   "source": [
    "data_path = \"data/dileptonic\"\n",
    "uncut_bkgd = process_data(data_path, del_cols)"
   ]
  },
  {
   "cell_type": "code",
   "execution_count": 6,
   "metadata": {},
   "outputs": [
    {
     "name": "stderr",
     "output_type": "stream",
     "text": [
      "Preprocessing Data:  14%|█▍        | 1/7 [00:01<00:07,  1.29s/it]"
     ]
    },
    {
     "name": "stdout",
     "output_type": "stream",
     "text": [
      " Sample: mch45_HG_13TeV_wohg_HQ1200_test | Original Size: 250000 | Drop_Ratio: 0.938\n"
     ]
    },
    {
     "name": "stderr",
     "output_type": "stream",
     "text": [
      "Preprocessing Data:  29%|██▊       | 2/7 [00:02<00:06,  1.28s/it]"
     ]
    },
    {
     "name": "stdout",
     "output_type": "stream",
     "text": [
      " Sample: mch45_HG_13TeV_wohg_HQ1200_train | Original Size: 250000 | Drop_Ratio: 0.939\n"
     ]
    },
    {
     "name": "stderr",
     "output_type": "stream",
     "text": [
      "Preprocessing Data:  43%|████▎     | 3/7 [00:03<00:05,  1.28s/it]"
     ]
    },
    {
     "name": "stdout",
     "output_type": "stream",
     "text": [
      " Sample: mch45_HG_13TeV_wohg_HQ1400_train | Original Size: 250000 | Drop_Ratio: 0.941\n"
     ]
    },
    {
     "name": "stderr",
     "output_type": "stream",
     "text": [
      "Preprocessing Data:  57%|█████▋    | 4/7 [00:13<00:11,  3.83s/it]"
     ]
    },
    {
     "name": "stdout",
     "output_type": "stream",
     "text": [
      " Sample: smg | Original Size: 1900000 | Drop_Ratio: 0.935\n"
     ]
    },
    {
     "name": "stderr",
     "output_type": "stream",
     "text": [
      "Preprocessing Data:  71%|███████▏  | 5/7 [00:14<00:06,  3.06s/it]"
     ]
    },
    {
     "name": "stdout",
     "output_type": "stream",
     "text": [
      " Sample: mch45_HG_13TeV_wohg_HQ1000_test | Original Size: 250000 | Drop_Ratio: 0.935\n"
     ]
    },
    {
     "name": "stderr",
     "output_type": "stream",
     "text": [
      "Preprocessing Data:  86%|████████▌ | 6/7 [00:16<00:02,  2.53s/it]"
     ]
    },
    {
     "name": "stdout",
     "output_type": "stream",
     "text": [
      " Sample: mch45_HG_13TeV_wohg_HQ1000_train | Original Size: 250000 | Drop_Ratio: 0.936\n"
     ]
    },
    {
     "name": "stderr",
     "output_type": "stream",
     "text": [
      "Preprocessing Data: 100%|██████████| 7/7 [00:17<00:00,  2.50s/it]"
     ]
    },
    {
     "name": "stdout",
     "output_type": "stream",
     "text": [
      " Sample: mch45_HG_13TeV_wohg_HQ1400_test | Original Size: 250000 | Drop_Ratio: 0.942\n",
      "Total Drop Ratio: 0.937\n"
     ]
    },
    {
     "name": "stderr",
     "output_type": "stream",
     "text": [
      "\n"
     ]
    }
   ],
   "source": [
    "data_path = \"data/sm_gluon_vlq\"\n",
    "uncut_vlq = process_data(data_path, del_cols)"
   ]
  },
  {
   "cell_type": "code",
   "execution_count": 8,
   "metadata": {},
   "outputs": [
    {
     "name": "stdout",
     "output_type": "stream",
     "text": [
      "0.8612769589764288 0.05820788064834589\n",
      "14.79656962911437\n"
     ]
    }
   ],
   "source": [
    "# Testing cut ratio\n",
    "vlq_ratio = uncut_vlq[uncut_vlq[\"FatJet_Multi\"] > 0]\n",
    "vlq_ratio = vlq_ratio[sum([vlq_ratio[col] for col in vlq_ratio if \"BTag\" in col]) > 0].shape[0] / uncut_vlq.shape[0]\n",
    "bkgd_ratio = uncut_bkgd[uncut_bkgd[\"FatJet_Multi\"] > 0]\n",
    "bkgd_ratio = bkgd_ratio[sum([bkgd_ratio[col] for col in bkgd_ratio if \"BTag\" in col]) > 0].shape[0] / uncut_bkgd.shape[0]\n",
    "print(vlq_ratio, bkgd_ratio)\n",
    "print(vlq_ratio / bkgd_ratio)"
   ]
  },
  {
   "cell_type": "code",
   "execution_count": null,
   "metadata": {},
   "outputs": [],
   "source": [
    "# Verify ScalarHT_HT distribution variation\n",
    "hist_min = min(vlq[\"ScalarHT_HT\"].min(), uncut_vlq[\"ScalarHT_HT\"].min())\n",
    "hist_max = max(vlq[\"ScalarHT_HT\"].max(), uncut_vlq[\"ScalarHT_HT\"].max())\n",
    "hist_range = hist_min, hist_max\n",
    "\n",
    "plt.title(\"ScalarHT_HT Distributions\")\n",
    "plt.hist(vlq[\"ScalarHT_HT\"], bins=50, label=\"vlq\", range=hist_range, weights=vlq[\"gen_weights\"], histtype=\"step\")\n",
    "plt.hist(uncut_vlq[\"ScalarHT_HT\"], bins=50, label=\"uncut_vlq\", range=hist_range, weights=uncut_vlq[\"gen_weights\"], histtype=\"step\")\n",
    "plt.yscale(\"log\")\n",
    "plt.legend()\n",
    "plt.savefig(\"2L_vs_2L_and_1FJ_cut.png\", dpi=800)\n",
    "plt.show()"
   ]
  },
  {
   "cell_type": "markdown",
   "metadata": {},
   "source": [
    "# Import Data"
   ]
  },
  {
   "cell_type": "code",
   "execution_count": 10,
   "metadata": {
    "tags": []
   },
   "outputs": [
    {
     "name": "stderr",
     "output_type": "stream",
     "text": [
      "Preprocessing Data:   6%|▌         | 1/18 [00:00<00:07,  2.25it/s]"
     ]
    },
    {
     "name": "stdout",
     "output_type": "stream",
     "text": [
      " Sample: ttbarZ_2L | Original Size: 100000 | Drop_Ratio: 0.790\n"
     ]
    },
    {
     "name": "stderr",
     "output_type": "stream",
     "text": [
      "Preprocessing Data:  11%|█         | 2/18 [00:14<01:11,  4.46s/it]"
     ]
    },
    {
     "name": "stdout",
     "output_type": "stream",
     "text": [
      " Sample: Zbj_2L | Original Size: 4000000 | Drop_Ratio: 0.987\n"
     ]
    },
    {
     "name": "stderr",
     "output_type": "stream",
     "text": [
      "Preprocessing Data:  17%|█▋        | 3/18 [00:26<01:40,  6.69s/it]"
     ]
    },
    {
     "name": "stdout",
     "output_type": "stream",
     "text": [
      " Sample: Zbb_2L | Original Size: 4000000 | Drop_Ratio: 0.998\n"
     ]
    },
    {
     "name": "stderr",
     "output_type": "stream",
     "text": [
      "Preprocessing Data:  22%|██▏       | 4/18 [00:39<02:03,  8.80s/it]"
     ]
    },
    {
     "name": "stdout",
     "output_type": "stream",
     "text": [
      " Sample: Zjj_2L | Original Size: 4000000 | Drop_Ratio: 0.986\n"
     ]
    },
    {
     "name": "stderr",
     "output_type": "stream",
     "text": [
      "Preprocessing Data:  28%|██▊       | 5/18 [00:41<01:26,  6.65s/it]"
     ]
    },
    {
     "name": "stdout",
     "output_type": "stream",
     "text": [
      " Sample: ZZ_2L | Original Size: 500000 | Drop_Ratio: 0.985\n"
     ]
    },
    {
     "name": "stderr",
     "output_type": "stream",
     "text": [
      "Preprocessing Data:  33%|███▎      | 6/18 [00:41<00:56,  4.73s/it]"
     ]
    },
    {
     "name": "stdout",
     "output_type": "stream",
     "text": [
      " Sample: ttbarZ_2L_test | Original Size: 50000 | Drop_Ratio: 0.792\n"
     ]
    },
    {
     "name": "stderr",
     "output_type": "stream",
     "text": [
      "Preprocessing Data:  39%|███▉      | 7/18 [00:41<00:37,  3.37s/it]"
     ]
    },
    {
     "name": "stdout",
     "output_type": "stream",
     "text": [
      " Sample: topZj_2L_test | Original Size: 50000 | Drop_Ratio: 0.905\n"
     ]
    },
    {
     "name": "stderr",
     "output_type": "stream",
     "text": [
      "Preprocessing Data:  44%|████▍     | 8/18 [00:42<00:24,  2.43s/it]"
     ]
    },
    {
     "name": "stdout",
     "output_type": "stream",
     "text": [
      " Sample: topWZ_2L | Original Size: 50000 | Drop_Ratio: 0.786\n"
     ]
    },
    {
     "name": "stderr",
     "output_type": "stream",
     "text": [
      "Preprocessing Data:  50%|█████     | 9/18 [00:42<00:15,  1.76s/it]"
     ]
    },
    {
     "name": "stdout",
     "output_type": "stream",
     "text": [
      " Sample: topZj_2L_train | Original Size: 50000 | Drop_Ratio: 0.906\n"
     ]
    },
    {
     "name": "stderr",
     "output_type": "stream",
     "text": [
      "Preprocessing Data:  56%|█████▌    | 10/18 [00:42<00:10,  1.36s/it]"
     ]
    },
    {
     "name": "stdout",
     "output_type": "stream",
     "text": [
      " Sample: ttbarW_2L | Original Size: 100000 | Drop_Ratio: 0.905\n"
     ]
    },
    {
     "name": "stderr",
     "output_type": "stream",
     "text": [
      "Preprocessing Data:  61%|██████    | 11/18 [00:43<00:07,  1.07s/it]"
     ]
    },
    {
     "name": "stdout",
     "output_type": "stream",
     "text": [
      " Sample: topZj_2L | Original Size: 100000 | Drop_Ratio: 0.906\n"
     ]
    },
    {
     "name": "stderr",
     "output_type": "stream",
     "text": [
      "Preprocessing Data:  67%|██████▋   | 12/18 [00:44<00:07,  1.25s/it]"
     ]
    },
    {
     "name": "stdout",
     "output_type": "stream",
     "text": [
      " Sample: WZ_2L | Original Size: 500000 | Drop_Ratio: 0.983\n"
     ]
    },
    {
     "name": "stderr",
     "output_type": "stream",
     "text": [
      "Preprocessing Data:  72%|███████▏  | 13/18 [00:59<00:27,  5.41s/it]"
     ]
    },
    {
     "name": "stdout",
     "output_type": "stream",
     "text": [
      " Sample: ttbarb_2L | Original Size: 3899999 | Drop_Ratio: 0.968\n"
     ]
    },
    {
     "name": "stderr",
     "output_type": "stream",
     "text": [
      "Preprocessing Data:  78%|███████▊  | 14/18 [01:00<00:15,  3.85s/it]"
     ]
    },
    {
     "name": "stdout",
     "output_type": "stream",
     "text": [
      " Sample: ttbarZ_2L_train | Original Size: 50000 | Drop_Ratio: 0.789\n"
     ]
    },
    {
     "name": "stderr",
     "output_type": "stream",
     "text": [
      "Preprocessing Data:  83%|████████▎ | 15/18 [01:02<00:09,  3.32s/it]"
     ]
    },
    {
     "name": "stdout",
     "output_type": "stream",
     "text": [
      " Sample: ttbarH_2L | Original Size: 500000 | Drop_Ratio: 0.908\n"
     ]
    },
    {
     "name": "stderr",
     "output_type": "stream",
     "text": [
      "Preprocessing Data:  89%|████████▉ | 16/18 [01:04<00:05,  2.88s/it]"
     ]
    },
    {
     "name": "stdout",
     "output_type": "stream",
     "text": [
      " Sample: ttbar_2L | Original Size: 500000 | Drop_Ratio: 0.964\n"
     ]
    },
    {
     "name": "stderr",
     "output_type": "stream",
     "text": [
      "Preprocessing Data:  94%|█████████▍| 17/18 [01:19<00:06,  6.75s/it]"
     ]
    },
    {
     "name": "stdout",
     "output_type": "stream",
     "text": [
      " Sample: ttbarj_2L | Original Size: 4000000 | Drop_Ratio: 0.949\n"
     ]
    },
    {
     "name": "stderr",
     "output_type": "stream",
     "text": [
      "Preprocessing Data: 100%|██████████| 18/18 [01:21<00:00,  4.52s/it]"
     ]
    },
    {
     "name": "stdout",
     "output_type": "stream",
     "text": [
      " Sample: WW_2L | Original Size: 500000 | Drop_Ratio: 0.991\n",
      "Total Drop Ratio: 0.973\n"
     ]
    },
    {
     "name": "stderr",
     "output_type": "stream",
     "text": [
      "\n"
     ]
    },
    {
     "data": {
      "text/html": [
       "<div>\n",
       "<style scoped>\n",
       "    .dataframe tbody tr th:only-of-type {\n",
       "        vertical-align: middle;\n",
       "    }\n",
       "\n",
       "    .dataframe tbody tr th {\n",
       "        vertical-align: top;\n",
       "    }\n",
       "\n",
       "    .dataframe thead th {\n",
       "        text-align: right;\n",
       "    }\n",
       "</style>\n",
       "<table border=\"1\" class=\"dataframe\">\n",
       "  <thead>\n",
       "    <tr style=\"text-align: right;\">\n",
       "      <th></th>\n",
       "      <th>FatJet_Multi</th>\n",
       "      <th>FatJet1_PT</th>\n",
       "      <th>FatJet2_PT</th>\n",
       "      <th>FatJet3_PT</th>\n",
       "      <th>FatJet4_PT</th>\n",
       "      <th>FatJet5_PT</th>\n",
       "      <th>FatJet1_Mass</th>\n",
       "      <th>FatJet2_Mass</th>\n",
       "      <th>FatJet3_Mass</th>\n",
       "      <th>FatJet4_Mass</th>\n",
       "      <th>...</th>\n",
       "      <th>Electron1_Eta</th>\n",
       "      <th>Electron2_Eta</th>\n",
       "      <th>Electron1_Phi</th>\n",
       "      <th>Electron2_Phi</th>\n",
       "      <th>MissingET_MET</th>\n",
       "      <th>MissingET_Phi</th>\n",
       "      <th>ScalarHT_HT</th>\n",
       "      <th>gen_weights</th>\n",
       "      <th>Label</th>\n",
       "      <th>Sample</th>\n",
       "    </tr>\n",
       "  </thead>\n",
       "  <tbody>\n",
       "    <tr>\n",
       "      <th>6</th>\n",
       "      <td>1</td>\n",
       "      <td>222.386703</td>\n",
       "      <td>0.000000</td>\n",
       "      <td>0.0</td>\n",
       "      <td>0.0</td>\n",
       "      <td>0.0</td>\n",
       "      <td>89.281700</td>\n",
       "      <td>0.000000</td>\n",
       "      <td>0.0</td>\n",
       "      <td>0.0</td>\n",
       "      <td>...</td>\n",
       "      <td>0.000000</td>\n",
       "      <td>0.000000</td>\n",
       "      <td>0.000000</td>\n",
       "      <td>0.000000</td>\n",
       "      <td>74.745476</td>\n",
       "      <td>-2.622154</td>\n",
       "      <td>646.912720</td>\n",
       "      <td>0.000002</td>\n",
       "      <td>0</td>\n",
       "      <td>ttbarZ_2L</td>\n",
       "    </tr>\n",
       "    <tr>\n",
       "      <th>21</th>\n",
       "      <td>1</td>\n",
       "      <td>355.976532</td>\n",
       "      <td>0.000000</td>\n",
       "      <td>0.0</td>\n",
       "      <td>0.0</td>\n",
       "      <td>0.0</td>\n",
       "      <td>92.403839</td>\n",
       "      <td>0.000000</td>\n",
       "      <td>0.0</td>\n",
       "      <td>0.0</td>\n",
       "      <td>...</td>\n",
       "      <td>1.303101</td>\n",
       "      <td>1.311433</td>\n",
       "      <td>-3.124268</td>\n",
       "      <td>2.662745</td>\n",
       "      <td>62.061245</td>\n",
       "      <td>0.126687</td>\n",
       "      <td>738.070923</td>\n",
       "      <td>0.000002</td>\n",
       "      <td>0</td>\n",
       "      <td>ttbarZ_2L</td>\n",
       "    </tr>\n",
       "    <tr>\n",
       "      <th>22</th>\n",
       "      <td>1</td>\n",
       "      <td>379.277893</td>\n",
       "      <td>0.000000</td>\n",
       "      <td>0.0</td>\n",
       "      <td>0.0</td>\n",
       "      <td>0.0</td>\n",
       "      <td>92.015945</td>\n",
       "      <td>0.000000</td>\n",
       "      <td>0.0</td>\n",
       "      <td>0.0</td>\n",
       "      <td>...</td>\n",
       "      <td>-0.443531</td>\n",
       "      <td>0.041256</td>\n",
       "      <td>0.257705</td>\n",
       "      <td>0.629130</td>\n",
       "      <td>154.406555</td>\n",
       "      <td>2.711888</td>\n",
       "      <td>1017.925659</td>\n",
       "      <td>0.000002</td>\n",
       "      <td>0</td>\n",
       "      <td>ttbarZ_2L</td>\n",
       "    </tr>\n",
       "    <tr>\n",
       "      <th>27</th>\n",
       "      <td>2</td>\n",
       "      <td>315.526428</td>\n",
       "      <td>210.032394</td>\n",
       "      <td>0.0</td>\n",
       "      <td>0.0</td>\n",
       "      <td>0.0</td>\n",
       "      <td>79.493019</td>\n",
       "      <td>69.408371</td>\n",
       "      <td>0.0</td>\n",
       "      <td>0.0</td>\n",
       "      <td>...</td>\n",
       "      <td>0.000000</td>\n",
       "      <td>0.000000</td>\n",
       "      <td>0.000000</td>\n",
       "      <td>0.000000</td>\n",
       "      <td>88.304909</td>\n",
       "      <td>1.464204</td>\n",
       "      <td>784.078552</td>\n",
       "      <td>0.000002</td>\n",
       "      <td>0</td>\n",
       "      <td>ttbarZ_2L</td>\n",
       "    </tr>\n",
       "    <tr>\n",
       "      <th>28</th>\n",
       "      <td>2</td>\n",
       "      <td>339.583130</td>\n",
       "      <td>219.172821</td>\n",
       "      <td>0.0</td>\n",
       "      <td>0.0</td>\n",
       "      <td>0.0</td>\n",
       "      <td>116.564987</td>\n",
       "      <td>78.811958</td>\n",
       "      <td>0.0</td>\n",
       "      <td>0.0</td>\n",
       "      <td>...</td>\n",
       "      <td>0.000000</td>\n",
       "      <td>0.000000</td>\n",
       "      <td>0.000000</td>\n",
       "      <td>0.000000</td>\n",
       "      <td>99.853302</td>\n",
       "      <td>0.038497</td>\n",
       "      <td>775.420654</td>\n",
       "      <td>0.000002</td>\n",
       "      <td>0</td>\n",
       "      <td>ttbarZ_2L</td>\n",
       "    </tr>\n",
       "    <tr>\n",
       "      <th>...</th>\n",
       "      <td>...</td>\n",
       "      <td>...</td>\n",
       "      <td>...</td>\n",
       "      <td>...</td>\n",
       "      <td>...</td>\n",
       "      <td>...</td>\n",
       "      <td>...</td>\n",
       "      <td>...</td>\n",
       "      <td>...</td>\n",
       "      <td>...</td>\n",
       "      <td>...</td>\n",
       "      <td>...</td>\n",
       "      <td>...</td>\n",
       "      <td>...</td>\n",
       "      <td>...</td>\n",
       "      <td>...</td>\n",
       "      <td>...</td>\n",
       "      <td>...</td>\n",
       "      <td>...</td>\n",
       "      <td>...</td>\n",
       "      <td>...</td>\n",
       "    </tr>\n",
       "    <tr>\n",
       "      <th>499383</th>\n",
       "      <td>2</td>\n",
       "      <td>562.090515</td>\n",
       "      <td>406.163391</td>\n",
       "      <td>0.0</td>\n",
       "      <td>0.0</td>\n",
       "      <td>0.0</td>\n",
       "      <td>33.144203</td>\n",
       "      <td>32.881790</td>\n",
       "      <td>0.0</td>\n",
       "      <td>0.0</td>\n",
       "      <td>...</td>\n",
       "      <td>0.000000</td>\n",
       "      <td>0.000000</td>\n",
       "      <td>0.000000</td>\n",
       "      <td>0.000000</td>\n",
       "      <td>158.903229</td>\n",
       "      <td>-1.832084</td>\n",
       "      <td>989.765320</td>\n",
       "      <td>0.000734</td>\n",
       "      <td>0</td>\n",
       "      <td>WW_2L</td>\n",
       "    </tr>\n",
       "    <tr>\n",
       "      <th>499720</th>\n",
       "      <td>2</td>\n",
       "      <td>297.991119</td>\n",
       "      <td>216.625351</td>\n",
       "      <td>0.0</td>\n",
       "      <td>0.0</td>\n",
       "      <td>0.0</td>\n",
       "      <td>122.802528</td>\n",
       "      <td>0.000004</td>\n",
       "      <td>0.0</td>\n",
       "      <td>0.0</td>\n",
       "      <td>...</td>\n",
       "      <td>-0.388207</td>\n",
       "      <td>-0.442014</td>\n",
       "      <td>0.494916</td>\n",
       "      <td>-2.443376</td>\n",
       "      <td>90.066765</td>\n",
       "      <td>0.922439</td>\n",
       "      <td>516.766602</td>\n",
       "      <td>0.000734</td>\n",
       "      <td>0</td>\n",
       "      <td>WW_2L</td>\n",
       "    </tr>\n",
       "    <tr>\n",
       "      <th>499778</th>\n",
       "      <td>2</td>\n",
       "      <td>445.022675</td>\n",
       "      <td>322.059509</td>\n",
       "      <td>0.0</td>\n",
       "      <td>0.0</td>\n",
       "      <td>0.0</td>\n",
       "      <td>43.183895</td>\n",
       "      <td>0.000005</td>\n",
       "      <td>0.0</td>\n",
       "      <td>0.0</td>\n",
       "      <td>...</td>\n",
       "      <td>-0.231364</td>\n",
       "      <td>0.000000</td>\n",
       "      <td>2.371314</td>\n",
       "      <td>0.000000</td>\n",
       "      <td>117.803192</td>\n",
       "      <td>2.502448</td>\n",
       "      <td>845.329529</td>\n",
       "      <td>0.000734</td>\n",
       "      <td>0</td>\n",
       "      <td>WW_2L</td>\n",
       "    </tr>\n",
       "    <tr>\n",
       "      <th>499884</th>\n",
       "      <td>2</td>\n",
       "      <td>292.791809</td>\n",
       "      <td>240.076736</td>\n",
       "      <td>0.0</td>\n",
       "      <td>0.0</td>\n",
       "      <td>0.0</td>\n",
       "      <td>7.178124</td>\n",
       "      <td>71.778534</td>\n",
       "      <td>0.0</td>\n",
       "      <td>0.0</td>\n",
       "      <td>...</td>\n",
       "      <td>1.316574</td>\n",
       "      <td>0.000000</td>\n",
       "      <td>1.245588</td>\n",
       "      <td>0.000000</td>\n",
       "      <td>48.155449</td>\n",
       "      <td>1.515914</td>\n",
       "      <td>537.060669</td>\n",
       "      <td>0.000734</td>\n",
       "      <td>0</td>\n",
       "      <td>WW_2L</td>\n",
       "    </tr>\n",
       "    <tr>\n",
       "      <th>499929</th>\n",
       "      <td>2</td>\n",
       "      <td>360.245880</td>\n",
       "      <td>314.102539</td>\n",
       "      <td>0.0</td>\n",
       "      <td>0.0</td>\n",
       "      <td>0.0</td>\n",
       "      <td>63.213959</td>\n",
       "      <td>18.402016</td>\n",
       "      <td>0.0</td>\n",
       "      <td>0.0</td>\n",
       "      <td>...</td>\n",
       "      <td>0.000000</td>\n",
       "      <td>0.000000</td>\n",
       "      <td>0.000000</td>\n",
       "      <td>0.000000</td>\n",
       "      <td>70.872353</td>\n",
       "      <td>2.150616</td>\n",
       "      <td>717.312378</td>\n",
       "      <td>0.000734</td>\n",
       "      <td>0</td>\n",
       "      <td>WW_2L</td>\n",
       "    </tr>\n",
       "  </tbody>\n",
       "</table>\n",
       "<p>613019 rows × 72 columns</p>\n",
       "</div>"
      ],
      "text/plain": [
       "        FatJet_Multi  FatJet1_PT  FatJet2_PT  FatJet3_PT  FatJet4_PT  \\\n",
       "6                  1  222.386703    0.000000         0.0         0.0   \n",
       "21                 1  355.976532    0.000000         0.0         0.0   \n",
       "22                 1  379.277893    0.000000         0.0         0.0   \n",
       "27                 2  315.526428  210.032394         0.0         0.0   \n",
       "28                 2  339.583130  219.172821         0.0         0.0   \n",
       "...              ...         ...         ...         ...         ...   \n",
       "499383             2  562.090515  406.163391         0.0         0.0   \n",
       "499720             2  297.991119  216.625351         0.0         0.0   \n",
       "499778             2  445.022675  322.059509         0.0         0.0   \n",
       "499884             2  292.791809  240.076736         0.0         0.0   \n",
       "499929             2  360.245880  314.102539         0.0         0.0   \n",
       "\n",
       "        FatJet5_PT  FatJet1_Mass  FatJet2_Mass  FatJet3_Mass  FatJet4_Mass  \\\n",
       "6              0.0     89.281700      0.000000           0.0           0.0   \n",
       "21             0.0     92.403839      0.000000           0.0           0.0   \n",
       "22             0.0     92.015945      0.000000           0.0           0.0   \n",
       "27             0.0     79.493019     69.408371           0.0           0.0   \n",
       "28             0.0    116.564987     78.811958           0.0           0.0   \n",
       "...            ...           ...           ...           ...           ...   \n",
       "499383         0.0     33.144203     32.881790           0.0           0.0   \n",
       "499720         0.0    122.802528      0.000004           0.0           0.0   \n",
       "499778         0.0     43.183895      0.000005           0.0           0.0   \n",
       "499884         0.0      7.178124     71.778534           0.0           0.0   \n",
       "499929         0.0     63.213959     18.402016           0.0           0.0   \n",
       "\n",
       "        ...  Electron1_Eta  Electron2_Eta  Electron1_Phi  Electron2_Phi  \\\n",
       "6       ...       0.000000       0.000000       0.000000       0.000000   \n",
       "21      ...       1.303101       1.311433      -3.124268       2.662745   \n",
       "22      ...      -0.443531       0.041256       0.257705       0.629130   \n",
       "27      ...       0.000000       0.000000       0.000000       0.000000   \n",
       "28      ...       0.000000       0.000000       0.000000       0.000000   \n",
       "...     ...            ...            ...            ...            ...   \n",
       "499383  ...       0.000000       0.000000       0.000000       0.000000   \n",
       "499720  ...      -0.388207      -0.442014       0.494916      -2.443376   \n",
       "499778  ...      -0.231364       0.000000       2.371314       0.000000   \n",
       "499884  ...       1.316574       0.000000       1.245588       0.000000   \n",
       "499929  ...       0.000000       0.000000       0.000000       0.000000   \n",
       "\n",
       "        MissingET_MET  MissingET_Phi  ScalarHT_HT  gen_weights  Label  \\\n",
       "6           74.745476      -2.622154   646.912720     0.000002      0   \n",
       "21          62.061245       0.126687   738.070923     0.000002      0   \n",
       "22         154.406555       2.711888  1017.925659     0.000002      0   \n",
       "27          88.304909       1.464204   784.078552     0.000002      0   \n",
       "28          99.853302       0.038497   775.420654     0.000002      0   \n",
       "...               ...            ...          ...          ...    ...   \n",
       "499383     158.903229      -1.832084   989.765320     0.000734      0   \n",
       "499720      90.066765       0.922439   516.766602     0.000734      0   \n",
       "499778     117.803192       2.502448   845.329529     0.000734      0   \n",
       "499884      48.155449       1.515914   537.060669     0.000734      0   \n",
       "499929      70.872353       2.150616   717.312378     0.000734      0   \n",
       "\n",
       "           Sample  \n",
       "6       ttbarZ_2L  \n",
       "21      ttbarZ_2L  \n",
       "22      ttbarZ_2L  \n",
       "27      ttbarZ_2L  \n",
       "28      ttbarZ_2L  \n",
       "...           ...  \n",
       "499383      WW_2L  \n",
       "499720      WW_2L  \n",
       "499778      WW_2L  \n",
       "499884      WW_2L  \n",
       "499929      WW_2L  \n",
       "\n",
       "[613019 rows x 72 columns]"
      ]
     },
     "execution_count": 10,
     "metadata": {},
     "output_type": "execute_result"
    }
   ],
   "source": [
    "# PreProcess bkgd data\n",
    "data_path = \"data/dileptonic\"\n",
    "bkgd = process_data(data_path, del_cols)\n",
    "bkgd"
   ]
  },
  {
   "cell_type": "code",
   "execution_count": 11,
   "metadata": {
    "tags": []
   },
   "outputs": [
    {
     "name": "stderr",
     "output_type": "stream",
     "text": [
      "Preprocessing Data:  14%|█▍        | 1/7 [00:01<00:07,  1.24s/it]"
     ]
    },
    {
     "name": "stdout",
     "output_type": "stream",
     "text": [
      " Sample: mch45_HG_13TeV_wohg_HQ1200_test | Original Size: 250000 | Drop_Ratio: 0.938\n"
     ]
    },
    {
     "name": "stderr",
     "output_type": "stream",
     "text": [
      "Preprocessing Data:  29%|██▊       | 2/7 [00:02<00:06,  1.25s/it]"
     ]
    },
    {
     "name": "stdout",
     "output_type": "stream",
     "text": [
      " Sample: mch45_HG_13TeV_wohg_HQ1200_train | Original Size: 250000 | Drop_Ratio: 0.939\n"
     ]
    },
    {
     "name": "stderr",
     "output_type": "stream",
     "text": [
      "Preprocessing Data:  43%|████▎     | 3/7 [00:03<00:05,  1.25s/it]"
     ]
    },
    {
     "name": "stdout",
     "output_type": "stream",
     "text": [
      " Sample: mch45_HG_13TeV_wohg_HQ1400_train | Original Size: 250000 | Drop_Ratio: 0.941\n"
     ]
    },
    {
     "name": "stderr",
     "output_type": "stream",
     "text": [
      "Preprocessing Data:  57%|█████▋    | 4/7 [00:13<00:11,  3.71s/it]"
     ]
    },
    {
     "name": "stdout",
     "output_type": "stream",
     "text": [
      " Sample: smg | Original Size: 1900000 | Drop_Ratio: 0.936\n"
     ]
    },
    {
     "name": "stderr",
     "output_type": "stream",
     "text": [
      "Preprocessing Data:  71%|███████▏  | 5/7 [00:14<00:05,  2.97s/it]"
     ]
    },
    {
     "name": "stdout",
     "output_type": "stream",
     "text": [
      " Sample: mch45_HG_13TeV_wohg_HQ1000_test | Original Size: 250000 | Drop_Ratio: 0.935\n"
     ]
    },
    {
     "name": "stderr",
     "output_type": "stream",
     "text": [
      "Preprocessing Data:  86%|████████▌ | 6/7 [00:15<00:02,  2.45s/it]"
     ]
    },
    {
     "name": "stdout",
     "output_type": "stream",
     "text": [
      " Sample: mch45_HG_13TeV_wohg_HQ1000_train | Original Size: 250000 | Drop_Ratio: 0.936\n"
     ]
    },
    {
     "name": "stderr",
     "output_type": "stream",
     "text": [
      "Preprocessing Data: 100%|██████████| 7/7 [00:16<00:00,  2.42s/it]"
     ]
    },
    {
     "name": "stdout",
     "output_type": "stream",
     "text": [
      " Sample: mch45_HG_13TeV_wohg_HQ1400_test | Original Size: 250000 | Drop_Ratio: 0.942\n",
      "Total Drop Ratio: 0.937\n"
     ]
    },
    {
     "name": "stderr",
     "output_type": "stream",
     "text": [
      "\n"
     ]
    },
    {
     "data": {
      "text/html": [
       "<div>\n",
       "<style scoped>\n",
       "    .dataframe tbody tr th:only-of-type {\n",
       "        vertical-align: middle;\n",
       "    }\n",
       "\n",
       "    .dataframe tbody tr th {\n",
       "        vertical-align: top;\n",
       "    }\n",
       "\n",
       "    .dataframe thead th {\n",
       "        text-align: right;\n",
       "    }\n",
       "</style>\n",
       "<table border=\"1\" class=\"dataframe\">\n",
       "  <thead>\n",
       "    <tr style=\"text-align: right;\">\n",
       "      <th></th>\n",
       "      <th>FatJet_Multi</th>\n",
       "      <th>FatJet1_PT</th>\n",
       "      <th>FatJet2_PT</th>\n",
       "      <th>FatJet3_PT</th>\n",
       "      <th>FatJet4_PT</th>\n",
       "      <th>FatJet5_PT</th>\n",
       "      <th>FatJet1_Mass</th>\n",
       "      <th>FatJet2_Mass</th>\n",
       "      <th>FatJet3_Mass</th>\n",
       "      <th>FatJet4_Mass</th>\n",
       "      <th>...</th>\n",
       "      <th>Electron1_Eta</th>\n",
       "      <th>Electron2_Eta</th>\n",
       "      <th>Electron1_Phi</th>\n",
       "      <th>Electron2_Phi</th>\n",
       "      <th>MissingET_MET</th>\n",
       "      <th>MissingET_Phi</th>\n",
       "      <th>ScalarHT_HT</th>\n",
       "      <th>gen_weights</th>\n",
       "      <th>Label</th>\n",
       "      <th>Sample</th>\n",
       "    </tr>\n",
       "  </thead>\n",
       "  <tbody>\n",
       "    <tr>\n",
       "      <th>8</th>\n",
       "      <td>4</td>\n",
       "      <td>679.288574</td>\n",
       "      <td>637.196655</td>\n",
       "      <td>575.872986</td>\n",
       "      <td>465.836670</td>\n",
       "      <td>0.000000</td>\n",
       "      <td>237.651794</td>\n",
       "      <td>84.461655</td>\n",
       "      <td>95.651817</td>\n",
       "      <td>168.446136</td>\n",
       "      <td>...</td>\n",
       "      <td>1.093419</td>\n",
       "      <td>0.041427</td>\n",
       "      <td>-2.275989</td>\n",
       "      <td>3.101779</td>\n",
       "      <td>59.826347</td>\n",
       "      <td>-1.571166</td>\n",
       "      <td>2314.953613</td>\n",
       "      <td>5.453681e-07</td>\n",
       "      <td>1</td>\n",
       "      <td>mch45_HG_13TeV_wohg_HQ1200_test</td>\n",
       "    </tr>\n",
       "    <tr>\n",
       "      <th>72</th>\n",
       "      <td>3</td>\n",
       "      <td>722.096008</td>\n",
       "      <td>712.639893</td>\n",
       "      <td>292.318909</td>\n",
       "      <td>0.000000</td>\n",
       "      <td>0.000000</td>\n",
       "      <td>95.335800</td>\n",
       "      <td>268.030182</td>\n",
       "      <td>64.672127</td>\n",
       "      <td>0.000000</td>\n",
       "      <td>...</td>\n",
       "      <td>-1.049473</td>\n",
       "      <td>0.000000</td>\n",
       "      <td>-0.830934</td>\n",
       "      <td>0.000000</td>\n",
       "      <td>854.150696</td>\n",
       "      <td>-1.032758</td>\n",
       "      <td>1928.374756</td>\n",
       "      <td>5.453681e-07</td>\n",
       "      <td>1</td>\n",
       "      <td>mch45_HG_13TeV_wohg_HQ1200_test</td>\n",
       "    </tr>\n",
       "    <tr>\n",
       "      <th>82</th>\n",
       "      <td>3</td>\n",
       "      <td>630.115234</td>\n",
       "      <td>305.956909</td>\n",
       "      <td>283.162201</td>\n",
       "      <td>0.000000</td>\n",
       "      <td>0.000000</td>\n",
       "      <td>114.620941</td>\n",
       "      <td>91.065170</td>\n",
       "      <td>96.998154</td>\n",
       "      <td>0.000000</td>\n",
       "      <td>...</td>\n",
       "      <td>0.621256</td>\n",
       "      <td>0.000000</td>\n",
       "      <td>1.390831</td>\n",
       "      <td>0.000000</td>\n",
       "      <td>701.605103</td>\n",
       "      <td>-2.040793</td>\n",
       "      <td>1302.086548</td>\n",
       "      <td>5.453681e-07</td>\n",
       "      <td>1</td>\n",
       "      <td>mch45_HG_13TeV_wohg_HQ1200_test</td>\n",
       "    </tr>\n",
       "    <tr>\n",
       "      <th>115</th>\n",
       "      <td>3</td>\n",
       "      <td>615.789185</td>\n",
       "      <td>381.363312</td>\n",
       "      <td>289.322754</td>\n",
       "      <td>0.000000</td>\n",
       "      <td>0.000000</td>\n",
       "      <td>157.678223</td>\n",
       "      <td>123.475723</td>\n",
       "      <td>64.592873</td>\n",
       "      <td>0.000000</td>\n",
       "      <td>...</td>\n",
       "      <td>-0.639307</td>\n",
       "      <td>0.000000</td>\n",
       "      <td>2.483285</td>\n",
       "      <td>0.000000</td>\n",
       "      <td>377.781586</td>\n",
       "      <td>1.851912</td>\n",
       "      <td>1421.504761</td>\n",
       "      <td>5.453681e-07</td>\n",
       "      <td>1</td>\n",
       "      <td>mch45_HG_13TeV_wohg_HQ1200_test</td>\n",
       "    </tr>\n",
       "    <tr>\n",
       "      <th>118</th>\n",
       "      <td>2</td>\n",
       "      <td>603.029968</td>\n",
       "      <td>528.326599</td>\n",
       "      <td>0.000000</td>\n",
       "      <td>0.000000</td>\n",
       "      <td>0.000000</td>\n",
       "      <td>96.925636</td>\n",
       "      <td>119.643799</td>\n",
       "      <td>0.000000</td>\n",
       "      <td>0.000000</td>\n",
       "      <td>...</td>\n",
       "      <td>0.418918</td>\n",
       "      <td>0.109304</td>\n",
       "      <td>2.743015</td>\n",
       "      <td>2.692961</td>\n",
       "      <td>185.340561</td>\n",
       "      <td>-0.824091</td>\n",
       "      <td>1783.073975</td>\n",
       "      <td>5.453681e-07</td>\n",
       "      <td>1</td>\n",
       "      <td>mch45_HG_13TeV_wohg_HQ1200_test</td>\n",
       "    </tr>\n",
       "    <tr>\n",
       "      <th>...</th>\n",
       "      <td>...</td>\n",
       "      <td>...</td>\n",
       "      <td>...</td>\n",
       "      <td>...</td>\n",
       "      <td>...</td>\n",
       "      <td>...</td>\n",
       "      <td>...</td>\n",
       "      <td>...</td>\n",
       "      <td>...</td>\n",
       "      <td>...</td>\n",
       "      <td>...</td>\n",
       "      <td>...</td>\n",
       "      <td>...</td>\n",
       "      <td>...</td>\n",
       "      <td>...</td>\n",
       "      <td>...</td>\n",
       "      <td>...</td>\n",
       "      <td>...</td>\n",
       "      <td>...</td>\n",
       "      <td>...</td>\n",
       "      <td>...</td>\n",
       "    </tr>\n",
       "    <tr>\n",
       "      <th>249910</th>\n",
       "      <td>4</td>\n",
       "      <td>666.686401</td>\n",
       "      <td>607.264709</td>\n",
       "      <td>450.049072</td>\n",
       "      <td>391.603912</td>\n",
       "      <td>0.000000</td>\n",
       "      <td>115.184601</td>\n",
       "      <td>179.727097</td>\n",
       "      <td>114.864006</td>\n",
       "      <td>64.223465</td>\n",
       "      <td>...</td>\n",
       "      <td>0.000000</td>\n",
       "      <td>0.000000</td>\n",
       "      <td>0.000000</td>\n",
       "      <td>0.000000</td>\n",
       "      <td>112.573494</td>\n",
       "      <td>-2.934912</td>\n",
       "      <td>2303.999756</td>\n",
       "      <td>1.774938e-07</td>\n",
       "      <td>1</td>\n",
       "      <td>mch45_HG_13TeV_wohg_HQ1400_test</td>\n",
       "    </tr>\n",
       "    <tr>\n",
       "      <th>249918</th>\n",
       "      <td>4</td>\n",
       "      <td>928.090820</td>\n",
       "      <td>700.795898</td>\n",
       "      <td>401.137665</td>\n",
       "      <td>232.056839</td>\n",
       "      <td>0.000000</td>\n",
       "      <td>346.194672</td>\n",
       "      <td>102.790993</td>\n",
       "      <td>94.033356</td>\n",
       "      <td>23.929482</td>\n",
       "      <td>...</td>\n",
       "      <td>0.000000</td>\n",
       "      <td>0.000000</td>\n",
       "      <td>0.000000</td>\n",
       "      <td>0.000000</td>\n",
       "      <td>365.781525</td>\n",
       "      <td>-2.217049</td>\n",
       "      <td>2508.777588</td>\n",
       "      <td>1.774938e-07</td>\n",
       "      <td>1</td>\n",
       "      <td>mch45_HG_13TeV_wohg_HQ1400_test</td>\n",
       "    </tr>\n",
       "    <tr>\n",
       "      <th>249942</th>\n",
       "      <td>2</td>\n",
       "      <td>1385.916504</td>\n",
       "      <td>1031.829224</td>\n",
       "      <td>0.000000</td>\n",
       "      <td>0.000000</td>\n",
       "      <td>0.000000</td>\n",
       "      <td>139.179977</td>\n",
       "      <td>158.596802</td>\n",
       "      <td>0.000000</td>\n",
       "      <td>0.000000</td>\n",
       "      <td>...</td>\n",
       "      <td>0.000000</td>\n",
       "      <td>0.000000</td>\n",
       "      <td>0.000000</td>\n",
       "      <td>0.000000</td>\n",
       "      <td>226.095474</td>\n",
       "      <td>-0.110796</td>\n",
       "      <td>2874.203857</td>\n",
       "      <td>1.774938e-07</td>\n",
       "      <td>1</td>\n",
       "      <td>mch45_HG_13TeV_wohg_HQ1400_test</td>\n",
       "    </tr>\n",
       "    <tr>\n",
       "      <th>249974</th>\n",
       "      <td>5</td>\n",
       "      <td>967.123413</td>\n",
       "      <td>555.906433</td>\n",
       "      <td>533.325867</td>\n",
       "      <td>327.264191</td>\n",
       "      <td>263.725922</td>\n",
       "      <td>173.991745</td>\n",
       "      <td>96.630959</td>\n",
       "      <td>131.944000</td>\n",
       "      <td>63.603821</td>\n",
       "      <td>...</td>\n",
       "      <td>0.000000</td>\n",
       "      <td>0.000000</td>\n",
       "      <td>0.000000</td>\n",
       "      <td>0.000000</td>\n",
       "      <td>329.906006</td>\n",
       "      <td>0.181167</td>\n",
       "      <td>2831.758057</td>\n",
       "      <td>1.774938e-07</td>\n",
       "      <td>1</td>\n",
       "      <td>mch45_HG_13TeV_wohg_HQ1400_test</td>\n",
       "    </tr>\n",
       "    <tr>\n",
       "      <th>249977</th>\n",
       "      <td>4</td>\n",
       "      <td>978.741028</td>\n",
       "      <td>378.995026</td>\n",
       "      <td>363.905457</td>\n",
       "      <td>255.313583</td>\n",
       "      <td>0.000000</td>\n",
       "      <td>110.309860</td>\n",
       "      <td>102.929085</td>\n",
       "      <td>133.128799</td>\n",
       "      <td>33.423523</td>\n",
       "      <td>...</td>\n",
       "      <td>0.000000</td>\n",
       "      <td>0.000000</td>\n",
       "      <td>0.000000</td>\n",
       "      <td>0.000000</td>\n",
       "      <td>461.540375</td>\n",
       "      <td>0.095589</td>\n",
       "      <td>1985.404297</td>\n",
       "      <td>1.774938e-07</td>\n",
       "      <td>1</td>\n",
       "      <td>mch45_HG_13TeV_wohg_HQ1400_test</td>\n",
       "    </tr>\n",
       "  </tbody>\n",
       "</table>\n",
       "<p>214657 rows × 72 columns</p>\n",
       "</div>"
      ],
      "text/plain": [
       "        FatJet_Multi   FatJet1_PT   FatJet2_PT  FatJet3_PT  FatJet4_PT  \\\n",
       "8                  4   679.288574   637.196655  575.872986  465.836670   \n",
       "72                 3   722.096008   712.639893  292.318909    0.000000   \n",
       "82                 3   630.115234   305.956909  283.162201    0.000000   \n",
       "115                3   615.789185   381.363312  289.322754    0.000000   \n",
       "118                2   603.029968   528.326599    0.000000    0.000000   \n",
       "...              ...          ...          ...         ...         ...   \n",
       "249910             4   666.686401   607.264709  450.049072  391.603912   \n",
       "249918             4   928.090820   700.795898  401.137665  232.056839   \n",
       "249942             2  1385.916504  1031.829224    0.000000    0.000000   \n",
       "249974             5   967.123413   555.906433  533.325867  327.264191   \n",
       "249977             4   978.741028   378.995026  363.905457  255.313583   \n",
       "\n",
       "        FatJet5_PT  FatJet1_Mass  FatJet2_Mass  FatJet3_Mass  FatJet4_Mass  \\\n",
       "8         0.000000    237.651794     84.461655     95.651817    168.446136   \n",
       "72        0.000000     95.335800    268.030182     64.672127      0.000000   \n",
       "82        0.000000    114.620941     91.065170     96.998154      0.000000   \n",
       "115       0.000000    157.678223    123.475723     64.592873      0.000000   \n",
       "118       0.000000     96.925636    119.643799      0.000000      0.000000   \n",
       "...            ...           ...           ...           ...           ...   \n",
       "249910    0.000000    115.184601    179.727097    114.864006     64.223465   \n",
       "249918    0.000000    346.194672    102.790993     94.033356     23.929482   \n",
       "249942    0.000000    139.179977    158.596802      0.000000      0.000000   \n",
       "249974  263.725922    173.991745     96.630959    131.944000     63.603821   \n",
       "249977    0.000000    110.309860    102.929085    133.128799     33.423523   \n",
       "\n",
       "        ...  Electron1_Eta  Electron2_Eta  Electron1_Phi  Electron2_Phi  \\\n",
       "8       ...       1.093419       0.041427      -2.275989       3.101779   \n",
       "72      ...      -1.049473       0.000000      -0.830934       0.000000   \n",
       "82      ...       0.621256       0.000000       1.390831       0.000000   \n",
       "115     ...      -0.639307       0.000000       2.483285       0.000000   \n",
       "118     ...       0.418918       0.109304       2.743015       2.692961   \n",
       "...     ...            ...            ...            ...            ...   \n",
       "249910  ...       0.000000       0.000000       0.000000       0.000000   \n",
       "249918  ...       0.000000       0.000000       0.000000       0.000000   \n",
       "249942  ...       0.000000       0.000000       0.000000       0.000000   \n",
       "249974  ...       0.000000       0.000000       0.000000       0.000000   \n",
       "249977  ...       0.000000       0.000000       0.000000       0.000000   \n",
       "\n",
       "        MissingET_MET  MissingET_Phi  ScalarHT_HT   gen_weights  Label  \\\n",
       "8           59.826347      -1.571166  2314.953613  5.453681e-07      1   \n",
       "72         854.150696      -1.032758  1928.374756  5.453681e-07      1   \n",
       "82         701.605103      -2.040793  1302.086548  5.453681e-07      1   \n",
       "115        377.781586       1.851912  1421.504761  5.453681e-07      1   \n",
       "118        185.340561      -0.824091  1783.073975  5.453681e-07      1   \n",
       "...               ...            ...          ...           ...    ...   \n",
       "249910     112.573494      -2.934912  2303.999756  1.774938e-07      1   \n",
       "249918     365.781525      -2.217049  2508.777588  1.774938e-07      1   \n",
       "249942     226.095474      -0.110796  2874.203857  1.774938e-07      1   \n",
       "249974     329.906006       0.181167  2831.758057  1.774938e-07      1   \n",
       "249977     461.540375       0.095589  1985.404297  1.774938e-07      1   \n",
       "\n",
       "                                 Sample  \n",
       "8       mch45_HG_13TeV_wohg_HQ1200_test  \n",
       "72      mch45_HG_13TeV_wohg_HQ1200_test  \n",
       "82      mch45_HG_13TeV_wohg_HQ1200_test  \n",
       "115     mch45_HG_13TeV_wohg_HQ1200_test  \n",
       "118     mch45_HG_13TeV_wohg_HQ1200_test  \n",
       "...                                 ...  \n",
       "249910  mch45_HG_13TeV_wohg_HQ1400_test  \n",
       "249918  mch45_HG_13TeV_wohg_HQ1400_test  \n",
       "249942  mch45_HG_13TeV_wohg_HQ1400_test  \n",
       "249974  mch45_HG_13TeV_wohg_HQ1400_test  \n",
       "249977  mch45_HG_13TeV_wohg_HQ1400_test  \n",
       "\n",
       "[214657 rows x 72 columns]"
      ]
     },
     "execution_count": 11,
     "metadata": {},
     "output_type": "execute_result"
    }
   ],
   "source": [
    "#Pre-Process VLQ data\n",
    "data_path = \"data/sm_gluon_vlq\"\n",
    "vlq = process_data(data_path, del_cols)\n",
    "vlq"
   ]
  },
  {
   "cell_type": "code",
   "execution_count": 12,
   "metadata": {},
   "outputs": [
    {
     "data": {
      "text/plain": [
       "17.403385093552426"
      ]
     },
     "execution_count": 12,
     "metadata": {},
     "output_type": "execute_result"
    }
   ],
   "source": [
    "print(f\"VLQ yield: {sum(vlq[\"gen_weights\"].values)*150}\")\n",
    "print(f\"Background Yield: {sum(bkgd[\"gen_weights\"].values)*150}\")"
   ]
  },
  {
   "cell_type": "code",
   "execution_count": 14,
   "metadata": {},
   "outputs": [
    {
     "data": {
      "text/html": [
       "<div>\n",
       "<style scoped>\n",
       "    .dataframe tbody tr th:only-of-type {\n",
       "        vertical-align: middle;\n",
       "    }\n",
       "\n",
       "    .dataframe tbody tr th {\n",
       "        vertical-align: top;\n",
       "    }\n",
       "\n",
       "    .dataframe thead th {\n",
       "        text-align: right;\n",
       "    }\n",
       "</style>\n",
       "<table border=\"1\" class=\"dataframe\">\n",
       "  <thead>\n",
       "    <tr style=\"text-align: right;\">\n",
       "      <th></th>\n",
       "      <th>FatJet_Multi</th>\n",
       "      <th>FatJet1_PT</th>\n",
       "      <th>FatJet2_PT</th>\n",
       "      <th>FatJet3_PT</th>\n",
       "      <th>FatJet4_PT</th>\n",
       "      <th>FatJet5_PT</th>\n",
       "      <th>FatJet1_Mass</th>\n",
       "      <th>FatJet2_Mass</th>\n",
       "      <th>FatJet3_Mass</th>\n",
       "      <th>FatJet4_Mass</th>\n",
       "      <th>...</th>\n",
       "      <th>Electron2_PT</th>\n",
       "      <th>Electron1_Eta</th>\n",
       "      <th>Electron2_Eta</th>\n",
       "      <th>Electron1_Phi</th>\n",
       "      <th>Electron2_Phi</th>\n",
       "      <th>MissingET_MET</th>\n",
       "      <th>MissingET_Phi</th>\n",
       "      <th>ScalarHT_HT</th>\n",
       "      <th>gen_weights</th>\n",
       "      <th>Label</th>\n",
       "    </tr>\n",
       "  </thead>\n",
       "  <tbody>\n",
       "    <tr>\n",
       "      <th>count</th>\n",
       "      <td>613019.000000</td>\n",
       "      <td>613019.000000</td>\n",
       "      <td>613019.000000</td>\n",
       "      <td>613019.000000</td>\n",
       "      <td>613019.000000</td>\n",
       "      <td>613019.000000</td>\n",
       "      <td>613019.000000</td>\n",
       "      <td>613019.000000</td>\n",
       "      <td>613019.000000</td>\n",
       "      <td>613019.000000</td>\n",
       "      <td>...</td>\n",
       "      <td>613019.000000</td>\n",
       "      <td>613019.000000</td>\n",
       "      <td>613019.000000</td>\n",
       "      <td>613019.000000</td>\n",
       "      <td>613019.000000</td>\n",
       "      <td>613019.000000</td>\n",
       "      <td>613019.000000</td>\n",
       "      <td>613019.000000</td>\n",
       "      <td>6.130190e+05</td>\n",
       "      <td>613019.0</td>\n",
       "    </tr>\n",
       "    <tr>\n",
       "      <th>mean</th>\n",
       "      <td>1.355726</td>\n",
       "      <td>278.058587</td>\n",
       "      <td>84.618863</td>\n",
       "      <td>9.136342</td>\n",
       "      <td>0.810379</td>\n",
       "      <td>0.055229</td>\n",
       "      <td>63.935517</td>\n",
       "      <td>18.983047</td>\n",
       "      <td>1.940194</td>\n",
       "      <td>0.162506</td>\n",
       "      <td>...</td>\n",
       "      <td>14.683537</td>\n",
       "      <td>0.001397</td>\n",
       "      <td>0.000567</td>\n",
       "      <td>-0.000137</td>\n",
       "      <td>0.000777</td>\n",
       "      <td>87.973837</td>\n",
       "      <td>-0.002936</td>\n",
       "      <td>680.022628</td>\n",
       "      <td>7.712190e-04</td>\n",
       "      <td>0.0</td>\n",
       "    </tr>\n",
       "    <tr>\n",
       "      <th>std</th>\n",
       "      <td>0.563792</td>\n",
       "      <td>87.527550</td>\n",
       "      <td>132.279853</td>\n",
       "      <td>47.893086</td>\n",
       "      <td>14.052181</td>\n",
       "      <td>3.574351</td>\n",
       "      <td>37.576200</td>\n",
       "      <td>34.755341</td>\n",
       "      <td>11.593254</td>\n",
       "      <td>3.183631</td>\n",
       "      <td>...</td>\n",
       "      <td>33.140284</td>\n",
       "      <td>0.811936</td>\n",
       "      <td>0.545502</td>\n",
       "      <td>1.396183</td>\n",
       "      <td>0.904322</td>\n",
       "      <td>69.476285</td>\n",
       "      <td>1.813892</td>\n",
       "      <td>217.436202</td>\n",
       "      <td>1.931784e-03</td>\n",
       "      <td>0.0</td>\n",
       "    </tr>\n",
       "    <tr>\n",
       "      <th>min</th>\n",
       "      <td>1.000000</td>\n",
       "      <td>200.000137</td>\n",
       "      <td>0.000000</td>\n",
       "      <td>0.000000</td>\n",
       "      <td>0.000000</td>\n",
       "      <td>0.000000</td>\n",
       "      <td>-0.000053</td>\n",
       "      <td>-0.000031</td>\n",
       "      <td>-0.000022</td>\n",
       "      <td>-0.000011</td>\n",
       "      <td>...</td>\n",
       "      <td>0.000000</td>\n",
       "      <td>-2.499992</td>\n",
       "      <td>-2.499928</td>\n",
       "      <td>-3.141573</td>\n",
       "      <td>-3.141527</td>\n",
       "      <td>0.028228</td>\n",
       "      <td>-3.141585</td>\n",
       "      <td>96.332077</td>\n",
       "      <td>4.288775e-07</td>\n",
       "      <td>0.0</td>\n",
       "    </tr>\n",
       "    <tr>\n",
       "      <th>25%</th>\n",
       "      <td>1.000000</td>\n",
       "      <td>220.090164</td>\n",
       "      <td>0.000000</td>\n",
       "      <td>0.000000</td>\n",
       "      <td>0.000000</td>\n",
       "      <td>0.000000</td>\n",
       "      <td>32.546251</td>\n",
       "      <td>0.000000</td>\n",
       "      <td>0.000000</td>\n",
       "      <td>0.000000</td>\n",
       "      <td>...</td>\n",
       "      <td>0.000000</td>\n",
       "      <td>-0.227148</td>\n",
       "      <td>0.000000</td>\n",
       "      <td>-0.489397</td>\n",
       "      <td>0.000000</td>\n",
       "      <td>34.813774</td>\n",
       "      <td>-1.577371</td>\n",
       "      <td>533.373901</td>\n",
       "      <td>5.605200e-06</td>\n",
       "      <td>0.0</td>\n",
       "    </tr>\n",
       "    <tr>\n",
       "      <th>50%</th>\n",
       "      <td>1.000000</td>\n",
       "      <td>250.357773</td>\n",
       "      <td>0.000000</td>\n",
       "      <td>0.000000</td>\n",
       "      <td>0.000000</td>\n",
       "      <td>0.000000</td>\n",
       "      <td>60.615150</td>\n",
       "      <td>0.000000</td>\n",
       "      <td>0.000000</td>\n",
       "      <td>0.000000</td>\n",
       "      <td>...</td>\n",
       "      <td>0.000000</td>\n",
       "      <td>0.000000</td>\n",
       "      <td>0.000000</td>\n",
       "      <td>0.000000</td>\n",
       "      <td>0.000000</td>\n",
       "      <td>71.685890</td>\n",
       "      <td>-0.001497</td>\n",
       "      <td>637.710388</td>\n",
       "      <td>1.378894e-04</td>\n",
       "      <td>0.0</td>\n",
       "    </tr>\n",
       "    <tr>\n",
       "      <th>75%</th>\n",
       "      <td>2.000000</td>\n",
       "      <td>305.128128</td>\n",
       "      <td>213.968826</td>\n",
       "      <td>0.000000</td>\n",
       "      <td>0.000000</td>\n",
       "      <td>0.000000</td>\n",
       "      <td>90.770985</td>\n",
       "      <td>26.904505</td>\n",
       "      <td>0.000000</td>\n",
       "      <td>0.000000</td>\n",
       "      <td>...</td>\n",
       "      <td>0.000000</td>\n",
       "      <td>0.233859</td>\n",
       "      <td>0.000000</td>\n",
       "      <td>0.492089</td>\n",
       "      <td>0.000000</td>\n",
       "      <td>123.191219</td>\n",
       "      <td>1.564685</td>\n",
       "      <td>776.476105</td>\n",
       "      <td>1.663447e-04</td>\n",
       "      <td>0.0</td>\n",
       "    </tr>\n",
       "    <tr>\n",
       "      <th>max</th>\n",
       "      <td>6.000000</td>\n",
       "      <td>1901.563477</td>\n",
       "      <td>1671.708862</td>\n",
       "      <td>968.598022</td>\n",
       "      <td>530.689697</td>\n",
       "      <td>336.192627</td>\n",
       "      <td>524.394775</td>\n",
       "      <td>505.283325</td>\n",
       "      <td>305.244202</td>\n",
       "      <td>178.961639</td>\n",
       "      <td>...</td>\n",
       "      <td>649.593811</td>\n",
       "      <td>2.499916</td>\n",
       "      <td>2.499921</td>\n",
       "      <td>3.141551</td>\n",
       "      <td>3.141556</td>\n",
       "      <td>1048.697144</td>\n",
       "      <td>3.141592</td>\n",
       "      <td>3903.838379</td>\n",
       "      <td>1.107532e-02</td>\n",
       "      <td>0.0</td>\n",
       "    </tr>\n",
       "  </tbody>\n",
       "</table>\n",
       "<p>8 rows × 71 columns</p>\n",
       "</div>"
      ],
      "text/plain": [
       "        FatJet_Multi     FatJet1_PT     FatJet2_PT     FatJet3_PT  \\\n",
       "count  613019.000000  613019.000000  613019.000000  613019.000000   \n",
       "mean        1.355726     278.058587      84.618863       9.136342   \n",
       "std         0.563792      87.527550     132.279853      47.893086   \n",
       "min         1.000000     200.000137       0.000000       0.000000   \n",
       "25%         1.000000     220.090164       0.000000       0.000000   \n",
       "50%         1.000000     250.357773       0.000000       0.000000   \n",
       "75%         2.000000     305.128128     213.968826       0.000000   \n",
       "max         6.000000    1901.563477    1671.708862     968.598022   \n",
       "\n",
       "          FatJet4_PT     FatJet5_PT   FatJet1_Mass   FatJet2_Mass  \\\n",
       "count  613019.000000  613019.000000  613019.000000  613019.000000   \n",
       "mean        0.810379       0.055229      63.935517      18.983047   \n",
       "std        14.052181       3.574351      37.576200      34.755341   \n",
       "min         0.000000       0.000000      -0.000053      -0.000031   \n",
       "25%         0.000000       0.000000      32.546251       0.000000   \n",
       "50%         0.000000       0.000000      60.615150       0.000000   \n",
       "75%         0.000000       0.000000      90.770985      26.904505   \n",
       "max       530.689697     336.192627     524.394775     505.283325   \n",
       "\n",
       "        FatJet3_Mass   FatJet4_Mass  ...   Electron2_PT  Electron1_Eta  \\\n",
       "count  613019.000000  613019.000000  ...  613019.000000  613019.000000   \n",
       "mean        1.940194       0.162506  ...      14.683537       0.001397   \n",
       "std        11.593254       3.183631  ...      33.140284       0.811936   \n",
       "min        -0.000022      -0.000011  ...       0.000000      -2.499992   \n",
       "25%         0.000000       0.000000  ...       0.000000      -0.227148   \n",
       "50%         0.000000       0.000000  ...       0.000000       0.000000   \n",
       "75%         0.000000       0.000000  ...       0.000000       0.233859   \n",
       "max       305.244202     178.961639  ...     649.593811       2.499916   \n",
       "\n",
       "       Electron2_Eta  Electron1_Phi  Electron2_Phi  MissingET_MET  \\\n",
       "count  613019.000000  613019.000000  613019.000000  613019.000000   \n",
       "mean        0.000567      -0.000137       0.000777      87.973837   \n",
       "std         0.545502       1.396183       0.904322      69.476285   \n",
       "min        -2.499928      -3.141573      -3.141527       0.028228   \n",
       "25%         0.000000      -0.489397       0.000000      34.813774   \n",
       "50%         0.000000       0.000000       0.000000      71.685890   \n",
       "75%         0.000000       0.492089       0.000000     123.191219   \n",
       "max         2.499921       3.141551       3.141556    1048.697144   \n",
       "\n",
       "       MissingET_Phi    ScalarHT_HT   gen_weights     Label  \n",
       "count  613019.000000  613019.000000  6.130190e+05  613019.0  \n",
       "mean       -0.002936     680.022628  7.712190e-04       0.0  \n",
       "std         1.813892     217.436202  1.931784e-03       0.0  \n",
       "min        -3.141585      96.332077  4.288775e-07       0.0  \n",
       "25%        -1.577371     533.373901  5.605200e-06       0.0  \n",
       "50%        -0.001497     637.710388  1.378894e-04       0.0  \n",
       "75%         1.564685     776.476105  1.663447e-04       0.0  \n",
       "max         3.141592    3903.838379  1.107532e-02       0.0  \n",
       "\n",
       "[8 rows x 71 columns]"
      ]
     },
     "execution_count": 14,
     "metadata": {},
     "output_type": "execute_result"
    }
   ],
   "source": [
    "bkgd.describe()"
   ]
  },
  {
   "cell_type": "code",
   "execution_count": 15,
   "metadata": {},
   "outputs": [
    {
     "data": {
      "text/html": [
       "<div>\n",
       "<style scoped>\n",
       "    .dataframe tbody tr th:only-of-type {\n",
       "        vertical-align: middle;\n",
       "    }\n",
       "\n",
       "    .dataframe tbody tr th {\n",
       "        vertical-align: top;\n",
       "    }\n",
       "\n",
       "    .dataframe thead th {\n",
       "        text-align: right;\n",
       "    }\n",
       "</style>\n",
       "<table border=\"1\" class=\"dataframe\">\n",
       "  <thead>\n",
       "    <tr style=\"text-align: right;\">\n",
       "      <th></th>\n",
       "      <th>FatJet_Multi</th>\n",
       "      <th>FatJet1_PT</th>\n",
       "      <th>FatJet2_PT</th>\n",
       "      <th>FatJet3_PT</th>\n",
       "      <th>FatJet4_PT</th>\n",
       "      <th>FatJet5_PT</th>\n",
       "      <th>FatJet1_Mass</th>\n",
       "      <th>FatJet2_Mass</th>\n",
       "      <th>FatJet3_Mass</th>\n",
       "      <th>FatJet4_Mass</th>\n",
       "      <th>...</th>\n",
       "      <th>Electron2_PT</th>\n",
       "      <th>Electron1_Eta</th>\n",
       "      <th>Electron2_Eta</th>\n",
       "      <th>Electron1_Phi</th>\n",
       "      <th>Electron2_Phi</th>\n",
       "      <th>MissingET_MET</th>\n",
       "      <th>MissingET_Phi</th>\n",
       "      <th>ScalarHT_HT</th>\n",
       "      <th>gen_weights</th>\n",
       "      <th>Label</th>\n",
       "    </tr>\n",
       "  </thead>\n",
       "  <tbody>\n",
       "    <tr>\n",
       "      <th>count</th>\n",
       "      <td>214657.000000</td>\n",
       "      <td>214657.000000</td>\n",
       "      <td>214657.000000</td>\n",
       "      <td>214657.000000</td>\n",
       "      <td>214657.000000</td>\n",
       "      <td>214657.000000</td>\n",
       "      <td>214657.000000</td>\n",
       "      <td>214657.000000</td>\n",
       "      <td>214657.000000</td>\n",
       "      <td>214657.000000</td>\n",
       "      <td>...</td>\n",
       "      <td>214657.000000</td>\n",
       "      <td>214657.000000</td>\n",
       "      <td>214657.000000</td>\n",
       "      <td>214657.000000</td>\n",
       "      <td>214657.000000</td>\n",
       "      <td>214657.000000</td>\n",
       "      <td>214657.000000</td>\n",
       "      <td>214657.000000</td>\n",
       "      <td>2.146570e+05</td>\n",
       "      <td>214657.0</td>\n",
       "    </tr>\n",
       "    <tr>\n",
       "      <th>mean</th>\n",
       "      <td>3.042780</td>\n",
       "      <td>685.235326</td>\n",
       "      <td>485.108176</td>\n",
       "      <td>266.073038</td>\n",
       "      <td>92.029829</td>\n",
       "      <td>10.843937</td>\n",
       "      <td>145.113076</td>\n",
       "      <td>109.443358</td>\n",
       "      <td>63.399670</td>\n",
       "      <td>21.169808</td>\n",
       "      <td>...</td>\n",
       "      <td>39.598280</td>\n",
       "      <td>-0.000612</td>\n",
       "      <td>-0.000450</td>\n",
       "      <td>0.002160</td>\n",
       "      <td>-0.002554</td>\n",
       "      <td>242.930259</td>\n",
       "      <td>0.000118</td>\n",
       "      <td>1780.537045</td>\n",
       "      <td>5.405021e-07</td>\n",
       "      <td>1.0</td>\n",
       "    </tr>\n",
       "    <tr>\n",
       "      <th>std</th>\n",
       "      <td>0.919968</td>\n",
       "      <td>243.847349</td>\n",
       "      <td>217.040847</td>\n",
       "      <td>191.532810</td>\n",
       "      <td>145.843769</td>\n",
       "      <td>53.498584</td>\n",
       "      <td>75.827623</td>\n",
       "      <td>60.491046</td>\n",
       "      <td>54.223531</td>\n",
       "      <td>37.876338</td>\n",
       "      <td>...</td>\n",
       "      <td>81.011885</td>\n",
       "      <td>0.701740</td>\n",
       "      <td>0.525101</td>\n",
       "      <td>1.371311</td>\n",
       "      <td>1.016714</td>\n",
       "      <td>189.945944</td>\n",
       "      <td>1.814367</td>\n",
       "      <td>567.461660</td>\n",
       "      <td>5.870458e-07</td>\n",
       "      <td>0.0</td>\n",
       "    </tr>\n",
       "    <tr>\n",
       "      <th>min</th>\n",
       "      <td>1.000000</td>\n",
       "      <td>200.002579</td>\n",
       "      <td>0.000000</td>\n",
       "      <td>0.000000</td>\n",
       "      <td>0.000000</td>\n",
       "      <td>0.000000</td>\n",
       "      <td>-0.000031</td>\n",
       "      <td>-0.000053</td>\n",
       "      <td>-0.000026</td>\n",
       "      <td>-0.000022</td>\n",
       "      <td>...</td>\n",
       "      <td>0.000000</td>\n",
       "      <td>-2.499892</td>\n",
       "      <td>-2.498925</td>\n",
       "      <td>-3.141591</td>\n",
       "      <td>-3.141575</td>\n",
       "      <td>0.025636</td>\n",
       "      <td>-3.141592</td>\n",
       "      <td>249.317856</td>\n",
       "      <td>1.743435e-07</td>\n",
       "      <td>1.0</td>\n",
       "    </tr>\n",
       "    <tr>\n",
       "      <th>25%</th>\n",
       "      <td>2.000000</td>\n",
       "      <td>514.619507</td>\n",
       "      <td>352.266876</td>\n",
       "      <td>0.000000</td>\n",
       "      <td>0.000000</td>\n",
       "      <td>0.000000</td>\n",
       "      <td>95.410660</td>\n",
       "      <td>77.968575</td>\n",
       "      <td>0.000000</td>\n",
       "      <td>0.000000</td>\n",
       "      <td>...</td>\n",
       "      <td>0.000000</td>\n",
       "      <td>-0.161319</td>\n",
       "      <td>0.000000</td>\n",
       "      <td>-0.389944</td>\n",
       "      <td>0.000000</td>\n",
       "      <td>100.011055</td>\n",
       "      <td>-1.573290</td>\n",
       "      <td>1383.393188</td>\n",
       "      <td>2.641252e-07</td>\n",
       "      <td>1.0</td>\n",
       "    </tr>\n",
       "    <tr>\n",
       "      <th>50%</th>\n",
       "      <td>3.000000</td>\n",
       "      <td>647.852600</td>\n",
       "      <td>463.147064</td>\n",
       "      <td>288.800629</td>\n",
       "      <td>0.000000</td>\n",
       "      <td>0.000000</td>\n",
       "      <td>124.900459</td>\n",
       "      <td>101.070656</td>\n",
       "      <td>65.775917</td>\n",
       "      <td>0.000000</td>\n",
       "      <td>...</td>\n",
       "      <td>0.000000</td>\n",
       "      <td>0.000000</td>\n",
       "      <td>0.000000</td>\n",
       "      <td>0.000000</td>\n",
       "      <td>0.000000</td>\n",
       "      <td>196.109085</td>\n",
       "      <td>-0.004811</td>\n",
       "      <td>1716.082764</td>\n",
       "      <td>2.641252e-07</td>\n",
       "      <td>1.0</td>\n",
       "    </tr>\n",
       "    <tr>\n",
       "      <th>75%</th>\n",
       "      <td>4.000000</td>\n",
       "      <td>815.132019</td>\n",
       "      <td>600.198242</td>\n",
       "      <td>392.093506</td>\n",
       "      <td>224.444366</td>\n",
       "      <td>0.000000</td>\n",
       "      <td>175.430511</td>\n",
       "      <td>139.384628</td>\n",
       "      <td>98.236099</td>\n",
       "      <td>31.716845</td>\n",
       "      <td>...</td>\n",
       "      <td>41.149273</td>\n",
       "      <td>0.154189</td>\n",
       "      <td>0.000000</td>\n",
       "      <td>0.412333</td>\n",
       "      <td>0.000000</td>\n",
       "      <td>336.263580</td>\n",
       "      <td>1.578002</td>\n",
       "      <td>2100.121094</td>\n",
       "      <td>5.453681e-07</td>\n",
       "      <td>1.0</td>\n",
       "    </tr>\n",
       "    <tr>\n",
       "      <th>max</th>\n",
       "      <td>8.000000</td>\n",
       "      <td>2879.625977</td>\n",
       "      <td>2635.632812</td>\n",
       "      <td>1336.856812</td>\n",
       "      <td>1062.891113</td>\n",
       "      <td>814.843140</td>\n",
       "      <td>1065.849609</td>\n",
       "      <td>851.648132</td>\n",
       "      <td>543.557068</td>\n",
       "      <td>337.304260</td>\n",
       "      <td>...</td>\n",
       "      <td>990.969849</td>\n",
       "      <td>2.499868</td>\n",
       "      <td>2.498529</td>\n",
       "      <td>3.141592</td>\n",
       "      <td>3.141577</td>\n",
       "      <td>2279.300049</td>\n",
       "      <td>3.141547</td>\n",
       "      <td>6155.838379</td>\n",
       "      <td>1.926654e-06</td>\n",
       "      <td>1.0</td>\n",
       "    </tr>\n",
       "  </tbody>\n",
       "</table>\n",
       "<p>8 rows × 71 columns</p>\n",
       "</div>"
      ],
      "text/plain": [
       "        FatJet_Multi     FatJet1_PT     FatJet2_PT     FatJet3_PT  \\\n",
       "count  214657.000000  214657.000000  214657.000000  214657.000000   \n",
       "mean        3.042780     685.235326     485.108176     266.073038   \n",
       "std         0.919968     243.847349     217.040847     191.532810   \n",
       "min         1.000000     200.002579       0.000000       0.000000   \n",
       "25%         2.000000     514.619507     352.266876       0.000000   \n",
       "50%         3.000000     647.852600     463.147064     288.800629   \n",
       "75%         4.000000     815.132019     600.198242     392.093506   \n",
       "max         8.000000    2879.625977    2635.632812    1336.856812   \n",
       "\n",
       "          FatJet4_PT     FatJet5_PT   FatJet1_Mass   FatJet2_Mass  \\\n",
       "count  214657.000000  214657.000000  214657.000000  214657.000000   \n",
       "mean       92.029829      10.843937     145.113076     109.443358   \n",
       "std       145.843769      53.498584      75.827623      60.491046   \n",
       "min         0.000000       0.000000      -0.000031      -0.000053   \n",
       "25%         0.000000       0.000000      95.410660      77.968575   \n",
       "50%         0.000000       0.000000     124.900459     101.070656   \n",
       "75%       224.444366       0.000000     175.430511     139.384628   \n",
       "max      1062.891113     814.843140    1065.849609     851.648132   \n",
       "\n",
       "        FatJet3_Mass   FatJet4_Mass  ...   Electron2_PT  Electron1_Eta  \\\n",
       "count  214657.000000  214657.000000  ...  214657.000000  214657.000000   \n",
       "mean       63.399670      21.169808  ...      39.598280      -0.000612   \n",
       "std        54.223531      37.876338  ...      81.011885       0.701740   \n",
       "min        -0.000026      -0.000022  ...       0.000000      -2.499892   \n",
       "25%         0.000000       0.000000  ...       0.000000      -0.161319   \n",
       "50%        65.775917       0.000000  ...       0.000000       0.000000   \n",
       "75%        98.236099      31.716845  ...      41.149273       0.154189   \n",
       "max       543.557068     337.304260  ...     990.969849       2.499868   \n",
       "\n",
       "       Electron2_Eta  Electron1_Phi  Electron2_Phi  MissingET_MET  \\\n",
       "count  214657.000000  214657.000000  214657.000000  214657.000000   \n",
       "mean       -0.000450       0.002160      -0.002554     242.930259   \n",
       "std         0.525101       1.371311       1.016714     189.945944   \n",
       "min        -2.498925      -3.141591      -3.141575       0.025636   \n",
       "25%         0.000000      -0.389944       0.000000     100.011055   \n",
       "50%         0.000000       0.000000       0.000000     196.109085   \n",
       "75%         0.000000       0.412333       0.000000     336.263580   \n",
       "max         2.498529       3.141592       3.141577    2279.300049   \n",
       "\n",
       "       MissingET_Phi    ScalarHT_HT   gen_weights     Label  \n",
       "count  214657.000000  214657.000000  2.146570e+05  214657.0  \n",
       "mean        0.000118    1780.537045  5.405021e-07       1.0  \n",
       "std         1.814367     567.461660  5.870458e-07       0.0  \n",
       "min        -3.141592     249.317856  1.743435e-07       1.0  \n",
       "25%        -1.573290    1383.393188  2.641252e-07       1.0  \n",
       "50%        -0.004811    1716.082764  2.641252e-07       1.0  \n",
       "75%         1.578002    2100.121094  5.453681e-07       1.0  \n",
       "max         3.141547    6155.838379  1.926654e-06       1.0  \n",
       "\n",
       "[8 rows x 71 columns]"
      ]
     },
     "execution_count": 15,
     "metadata": {},
     "output_type": "execute_result"
    }
   ],
   "source": [
    "vlq.describe()"
   ]
  },
  {
   "cell_type": "markdown",
   "metadata": {},
   "source": [
    "## Save Data"
   ]
  },
  {
   "cell_type": "code",
   "execution_count": 16,
   "metadata": {},
   "outputs": [],
   "source": [
    "bkgd.to_hdf(\"data/preprocessed/bkgd.h5\", key=\"bkgd\")\n",
    "vlq.to_hdf(\"data/preprocessed/vlq.h5\", key=\"vlq\")"
   ]
  },
  {
   "cell_type": "markdown",
   "metadata": {},
   "source": [
    "# Plots"
   ]
  },
  {
   "cell_type": "code",
   "execution_count": 17,
   "metadata": {},
   "outputs": [
    {
     "name": "stderr",
     "output_type": "stream",
     "text": [
      "Plotting: 100%|██████████| 72/72 [04:25<00:00,  3.69s/it]\n"
     ]
    },
    {
     "data": {
      "image/png": "[encoded data removed]",
      "text/plain": [
       "<Figure size 2880x4320 with 70 Axes>"
      ]
     },
     "metadata": {
      "needs_background": "light"
     },
     "output_type": "display_data"
    }
   ],
   "source": [
    "# Adjustment variables\n",
    "num_cols, bins = 5, 50\n",
    "\n",
    "# Create plots\n",
    "num_rows = int(np.ceil((len(list(bkgd.columns)) - 2) / num_cols))\n",
    "fig, axs = plt.subplots(num_rows, num_cols, figsize=(40, 60))\n",
    "\n",
    "# Iterate and plot the data\n",
    "ignore_cols = [\"gen_weights\", \"Label\", \"Sample\"]\n",
    "for i, column in tqdm(enumerate(bkgd.columns), total=len(list(bkgd.columns)), desc=\"Plotting\"):\n",
    "    if vlq.columns[i] not in ignore_cols:\n",
    "        # Define histogram range\n",
    "        hist_min = min(vlq[column].min(), bkgd[column].min())\n",
    "        hist_max = max(vlq[column].max(), bkgd[column].max())\n",
    "        hist_range = (hist_min, hist_max)\n",
    "\n",
    "        # Plot data\n",
    "        row, col = int(i/num_cols), i%num_cols\n",
    "        axs[row, col].set_title(vlq.columns[i])\n",
    "        axs[row, col].hist(bkgd[column], bins=50, label=\"bkgd\", alpha=0.8, range=hist_range,\n",
    "                           weights=bkgd[\"gen_weights\"], histtype='step')\n",
    "        axs[row, col].hist(vlq[column], bins=50, label=\"vlq\", alpha=0.8, range=hist_range,\n",
    "                           weights=vlq[\"gen_weights\"], histtype='step')\n",
    "        axs[row, col].set_yscale(\"log\")\n",
    "        axs[row, col].legend()\n",
    "\n",
    "plt.show()"
   ]
  },
  {
   "cell_type": "markdown",
   "metadata": {},
   "source": [
    "## Plotting VLQ before and after cuts"
   ]
  },
  {
   "cell_type": "code",
   "execution_count": null,
   "metadata": {
    "tags": []
   },
   "outputs": [],
   "source": [
    "data_path = \"data/sm_gluon_vlq\"\n",
    "uncut_vlq = process_data(data_path, del_cols, btag_cols, lepton_cols, False)\n",
    "# vlq = process_data(data_path, del_cols, btag_cols, lepton_cols)"
   ]
  },
  {
   "cell_type": "code",
   "execution_count": null,
   "metadata": {
    "tags": []
   },
   "outputs": [],
   "source": [
    "# Adjustment variables\n",
    "num_cols, bins = 5, 50\n",
    "\n",
    "# Create plots\n",
    "num_rows = int(np.ceil((len(list(vlq.columns)) - 2) / num_cols))\n",
    "fig, axs = plt.subplots(num_rows, num_cols, figsize=(40, 60))\n",
    "\n",
    "# Iterate and plot the data\n",
    "ignore_cols = [\"gen_weights\", \"Label\", \"Sample\"]\n",
    "for i, column in tqdm(enumerate(vlq.columns), total=len(list(vlq.columns)), desc=\"Plotting\"):\n",
    "    if vlq.columns[i] not in ignore_cols:\n",
    "        # Define histogram range\n",
    "        hist_min = min(vlq[column].min(), uncut_vlq[column].min())\n",
    "        hist_max = max(vlq[column].max(), uncut_vlq[column].max())\n",
    "        hist_range = (hist_min, hist_max)\n",
    "\n",
    "        # Plot data\n",
    "        row, col = int(i/num_cols), i%num_cols\n",
    "        axs[row, col].set_title(vlq.columns[i])\n",
    "        axs[row, col].hist(uncut_vlq[column], bins=50, label=\"uncut_vlq\", alpha=0.8, range=hist_range,\n",
    "                           weights=uncut_vlq[\"gen_weights\"], histtype='step')\n",
    "        axs[row, col].hist(vlq[column], bins=50, label=\"vlq\", alpha=0.8, range=hist_range,\n",
    "                           weights=vlq[\"gen_weights\"], histtype='step')\n",
    "        axs[row, col].set_yscale(\"log\")\n",
    "        axs[row, col].legend()\n",
    "\n",
    "plt.show()"
   ]
  },
  {
   "cell_type": "code",
   "execution_count": null,
   "metadata": {},
   "outputs": [],
   "source": []
  }
 ],
 "metadata": {
  "kernelspec": {
   "display_name": "Python 3",
   "language": "python",
   "name": "python3"
  },
  "language_info": {
   "codemirror_mode": {
    "name": "ipython",
    "version": 3
   },
   "file_extension": ".py",
   "mimetype": "text/x-python",
   "name": "python",
   "nbconvert_exporter": "python",
   "pygments_lexer": "ipython3",
   "version": "3.8.2"
  }
 },
 "nbformat": 4,
 "nbformat_minor": 4
}
